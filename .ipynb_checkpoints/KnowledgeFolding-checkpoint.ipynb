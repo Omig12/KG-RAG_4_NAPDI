{
 "cells": [
  {
   "cell_type": "markdown",
   "id": "25448996-9b8b-402a-b38d-9d7f981e6925",
   "metadata": {},
   "source": [
    "# Load enviroment and modules"
   ]
  },
  {
   "cell_type": "code",
   "execution_count": 4,
   "id": "5d91de3a-30ed-487f-bdfc-425f151fdb6b",
   "metadata": {},
   "outputs": [],
   "source": [
    "!source activate /ix/rboyce/iod4/envs/FM\n",
    "!export HF_HOME=\"/ix/rboyce/iod4/.cache/huggingface/\""
   ]
  },
  {
   "cell_type": "markdown",
   "id": "f4a872f6-5354-4366-98e8-850f3b52e66e",
   "metadata": {},
   "source": [
    "## Install or update models"
   ]
  },
  {
   "cell_type": "code",
   "execution_count": 5,
   "id": "686e3c5d-b3d1-43ec-a6e5-f94642e1978f",
   "metadata": {},
   "outputs": [],
   "source": [
    "# !pip install transformers\n",
    "# !pip install accelerate\n",
    "# !huggingface-cli download meta-llama/Meta-Llama-3-8B-Instruct --include \"original/*\" --local-dir meta-llama/Meta-Llama-3-8B-Instruct\n",
    "# !pip install --upgrade transformers optimum optimum-intel\n",
    "# !pip install --upgrade torch torchvision torchaudio"
   ]
  },
  {
   "cell_type": "code",
   "execution_count": 6,
   "id": "3ef2558d-9bd6-4a45-84e7-cecf77fd233b",
   "metadata": {},
   "outputs": [],
   "source": [
    "import transformers\n",
    "import torch"
   ]
  },
  {
   "cell_type": "markdown",
   "id": "0b4562b6-699d-414a-8a41-fca5cc862742",
   "metadata": {},
   "source": [
    "# Model Prompts"
   ]
  },
  {
   "cell_type": "code",
   "execution_count": 7,
   "id": "5040c99f-5e9d-46cb-8525-cfe50ab19632",
   "metadata": {},
   "outputs": [],
   "source": [
    "# Ideas:\n",
    "# How can we prompt the models to mention how recent the information cited is?\n",
    "# How can we accurately ask the model to convey if the results can be extrapolated between NPs?\n",
    "# Can we craft the LLM's role in a way that represents the intersection between the three personas? (clinical pharmacists, drug-drug interaction researchers, and drug interaction compendium editors)\n",
    "\n",
    "# Alternative queries:\n",
    "# \"What are the potential mechanisms for the interaction between cranberry natural products and the drug warfarin as detected by an increase in their International Normalized Ratio (INR) blood test?\""
   ]
  },
  {
   "cell_type": "code",
   "execution_count": 8,
   "id": "55eda531-5580-4ef6-9a93-68951d915d45",
   "metadata": {},
   "outputs": [],
   "source": [
    "prompt =  \"\"\n",
    "with open('./instruction_prompt.txt', 'r') as f:\n",
    "    prompt = f.read()"
   ]
  },
  {
   "cell_type": "code",
   "execution_count": 9,
   "id": "d35c3670-20bd-422b-acd6-6fe713876159",
   "metadata": {},
   "outputs": [],
   "source": [
    "from langchain_core.prompts import PromptTemplate\n",
    "import pandas as pd"
   ]
  },
  {
   "cell_type": "code",
   "execution_count": 10,
   "id": "137142da-a518-497b-b93b-0ffdbbd19030",
   "metadata": {},
   "outputs": [],
   "source": [
    "query = \"What are the potential mechanisms that cause an interaction between {NP} products and {Drug} that may cause {AE}?\""
   ]
  },
  {
   "cell_type": "code",
   "execution_count": 11,
   "id": "eec695a2-d797-4b81-bef0-004ada898e5e",
   "metadata": {},
   "outputs": [],
   "source": [
    "query_template = PromptTemplate.from_template(query)"
   ]
  },
  {
   "cell_type": "code",
   "execution_count": 12,
   "id": "8b184016-8bdf-4f99-9409-fbd8862380e5",
   "metadata": {},
   "outputs": [],
   "source": [
    "mappings = pd.read_csv(\"./Data/CaseStudyMappings.csv\")"
   ]
  },
  {
   "cell_type": "code",
   "execution_count": 13,
   "id": "08ee1589-95af-4915-a9f8-8fbc15fa6feb",
   "metadata": {},
   "outputs": [],
   "source": [
    "queries = []\n",
    "for row in mappings[[\"NP\", \"Drug\", \"AE\"]].iterrows():\n",
    "    queries.append(query_template.invoke(row[1].to_dict()))"
   ]
  },
  {
   "cell_type": "markdown",
   "id": "480717b3-e2e4-40b6-a2c2-b99edf829374",
   "metadata": {},
   "source": [
    "-------------------"
   ]
  },
  {
   "cell_type": "markdown",
   "id": "39678e8b-40e2-4452-a706-5c38829a07e7",
   "metadata": {},
   "source": [
    "## Important things to target with the Spoke Approach.\n",
    "\n",
    "1. Combining generated and retrieved knowledge.\n",
    "2. Improve the relevance of the context by improving the prompt. \"prompt aware context\"\n",
    "  - Alternative names for the NP.\n",
    "  - Alternative names for the drug.\n",
    "  - Alternative concepts for the AE.\n",
    "  - Mesh Terms for each, if available.\n",
    "3. Retrieve relevant context from NPKG.\n",
    "4. Retrieve relevant EMA monographs.\n",
    "5. Retrieve relevant Stockley's monographs.\n",
    "6. Merge or Synthesize all these into a single context.\n",
    "\n",
    "## Challenges:\n",
    "1. Alternative names could be gathered from staging_vocabulary (\"napdi repo db\")\n",
    "2. Splitting and merging all the information from the different sources.\n",
    "3. Consider OntoGPT ()"
   ]
  },
  {
   "cell_type": "markdown",
   "id": "170520ec-4d23-41b8-953c-19ab54a7b19f",
   "metadata": {},
   "source": [
    "# Spokelike from NPKG, EMA, & Stockleys"
   ]
  },
  {
   "cell_type": "markdown",
   "id": "d0f4dd68-be8b-4f3c-a8fe-54e7e62b5eb7",
   "metadata": {
    "jp-MarkdownHeadingCollapsed": true
   },
   "source": [
    "## Loading Documents for RAG"
   ]
  },
  {
   "cell_type": "code",
   "execution_count": 28,
   "id": "fdb58339-0183-477c-b3a6-c75bdbb9e4c1",
   "metadata": {},
   "outputs": [],
   "source": [
    "from langchain_community.document_loaders import DirectoryLoader, TextLoader, CSVLoader\n",
    "from langchain_text_splitters import CharacterTextSplitter, RecursiveCharacterTextSplitter"
   ]
  },
  {
   "cell_type": "code",
   "execution_count": 29,
   "id": "9fa368c8-ea4e-4d9a-92b0-8011b672b820",
   "metadata": {},
   "outputs": [],
   "source": [
    "data_folder = \"./Clean_data/\""
   ]
  },
  {
   "cell_type": "code",
   "execution_count": 30,
   "id": "8db7d596-ad42-4d31-ad4e-a7a28dc346f5",
   "metadata": {},
   "outputs": [],
   "source": [
    "text_loader_kwargs={'autodetect_encoding': True}"
   ]
  },
  {
   "cell_type": "code",
   "execution_count": 31,
   "id": "067ca63f-00c5-4cf6-9154-a0b3e28b5f29",
   "metadata": {},
   "outputs": [],
   "source": [
    "loader = DirectoryLoader(data_folder, glob=\"**/*.txt\", show_progress=True, use_multithreading=True, loader_cls=TextLoader, loader_kwargs=text_loader_kwargs)"
   ]
  },
  {
   "cell_type": "code",
   "execution_count": 32,
   "id": "7b893755-136f-4d4d-8154-95176ee22169",
   "metadata": {},
   "outputs": [
    {
     "name": "stderr",
     "output_type": "stream",
     "text": [
      " 99%|█████████▉| 260/263 [00:01<00:00, 254.26it/s]\n"
     ]
    }
   ],
   "source": [
    "docs = loader.load()"
   ]
  },
  {
   "cell_type": "code",
   "execution_count": 33,
   "id": "9496645a-007a-4c2c-9334-736fbf5a425a",
   "metadata": {},
   "outputs": [
    {
     "data": {
      "text/plain": [
       "260"
      ]
     },
     "execution_count": 33,
     "metadata": {},
     "output_type": "execute_result"
    }
   ],
   "source": [
    "len(docs)"
   ]
  },
  {
   "cell_type": "code",
   "execution_count": 34,
   "id": "493cf4c3-4dfd-4154-b219-d611419f3b65",
   "metadata": {},
   "outputs": [],
   "source": [
    "from unstructured.cleaners.core import clean, replace_unicode_quotes, group_broken_paragraphs , clean_non_ascii_chars"
   ]
  },
  {
   "cell_type": "code",
   "execution_count": 35,
   "id": "2da58ddf-f6d3-4bfa-92d2-795df3af6720",
   "metadata": {},
   "outputs": [],
   "source": [
    "for i in range(len(docs)):\n",
    "    docs[i].page_content = docs[i].page_content.replace(\"Unnamed: 1 Unnamed: 2 \", \"\")\n",
    "    docs[i].page_content = clean(docs[i].page_content, extra_whitespace=True)\n",
    "    docs[i].page_content = group_broken_paragraphs(docs[i].page_content)\n",
    "    docs[i].page_content = replace_unicode_quotes(docs[i].page_content)\n",
    "    # docs[i].page_content = clean_non_ascii_chars(docs[i].page_content)"
   ]
  },
  {
   "cell_type": "code",
   "execution_count": 36,
   "id": "2c6cf3f6-edb1-468a-b78f-e73aacb13165",
   "metadata": {},
   "outputs": [],
   "source": [
    "csv_loader = CSVLoader(file_path=data_folder+'ema.csv')"
   ]
  },
  {
   "cell_type": "code",
   "execution_count": 37,
   "id": "700ae66d-c591-4ac8-b3d3-31f6706e6c3e",
   "metadata": {},
   "outputs": [],
   "source": [
    "data = csv_loader.load()"
   ]
  },
  {
   "cell_type": "code",
   "execution_count": 38,
   "id": "335154ab-5087-4544-a24b-4a0b189e663b",
   "metadata": {},
   "outputs": [],
   "source": [
    "docs.extend(data)"
   ]
  },
  {
   "cell_type": "code",
   "execution_count": 39,
   "id": "7bb8a897-ac21-490d-856b-c1a1631cd6d8",
   "metadata": {},
   "outputs": [
    {
     "data": {
      "text/plain": [
       "838"
      ]
     },
     "execution_count": 39,
     "metadata": {},
     "output_type": "execute_result"
    }
   ],
   "source": [
    "len(docs)"
   ]
  },
  {
   "cell_type": "markdown",
   "id": "8ed5e724-7640-485b-802d-d34bb3beb31e",
   "metadata": {},
   "source": [
    "-----------"
   ]
  },
  {
   "cell_type": "markdown",
   "id": "eea6da60-77a0-4776-9cfa-ff4c6a964a47",
   "metadata": {},
   "source": [
    "## Create Vector Store with FAISS"
   ]
  },
  {
   "cell_type": "code",
   "execution_count": 40,
   "id": "c5800302-5b28-4fa1-92ee-7e2e262cb064",
   "metadata": {},
   "outputs": [],
   "source": [
    "# Helper function for printing docs\n",
    "def pretty_print_docs(docs):\n",
    "    print(\n",
    "        f\"\\n{'-' * 100}\\n\".join(\n",
    "            [f\"Document {i+1}:\\n\\n\" + d.page_content for i, d in enumerate(docs)]\n",
    "        )\n",
    "    )"
   ]
  },
  {
   "cell_type": "code",
   "execution_count": 41,
   "id": "583f6598-b9ac-49cd-8291-cef2b9ce066d",
   "metadata": {},
   "outputs": [],
   "source": [
    "import faiss\n",
    "from langchain_community.docstore.in_memory import InMemoryDocstore\n",
    "from langchain_community.vectorstores import FAISS"
   ]
  },
  {
   "cell_type": "code",
   "execution_count": 47,
   "id": "163985bc-8a07-4fc3-a232-d3608bb77d45",
   "metadata": {},
   "outputs": [],
   "source": [
    "# import getpass\n",
    "import os"
   ]
  },
  {
   "cell_type": "code",
   "execution_count": 48,
   "id": "4ed6b0f7-e68d-4a11-ac97-5c9135b7731b",
   "metadata": {},
   "outputs": [],
   "source": [
    "# if not os.environ.get(\"OPENAI_API_KEY\"):\n",
    "#     os.environ[\"OPENAI_API_KEY\"] = getpass.getpass(\"Enter your OpenAI API key: \")"
   ]
  },
  {
   "cell_type": "code",
   "execution_count": 49,
   "id": "505f21d1-a387-4af2-89b3-a904d022f7ea",
   "metadata": {},
   "outputs": [],
   "source": [
    "os.environ[\"OPENAI_API_KEY\"] = os.environ.get(\"OPENAI_PERSONAL_API_KEY\", default=False)"
   ]
  },
  {
   "cell_type": "code",
   "execution_count": 50,
   "id": "e10fcec5-37c7-4efc-a5c4-c6fe43e1beaf",
   "metadata": {},
   "outputs": [],
   "source": [
    "from langchain_openai import OpenAIEmbeddings"
   ]
  },
  {
   "cell_type": "code",
   "execution_count": 51,
   "id": "934de6c9-44b5-400c-aa93-d3c445e41ea7",
   "metadata": {},
   "outputs": [],
   "source": [
    "embeddings = OpenAIEmbeddings()"
   ]
  },
  {
   "cell_type": "code",
   "execution_count": 52,
   "id": "66a38fa3-38ac-49cc-8fa7-a07e89de03a3",
   "metadata": {},
   "outputs": [],
   "source": [
    "index = faiss.IndexFlatL2(len(embeddings.embed_query(\"Knowledge about a natural products involved in adverse events.\")))"
   ]
  },
  {
   "cell_type": "code",
   "execution_count": 53,
   "id": "3ed4cfb2-7be4-48fc-982a-3f79b7815a1c",
   "metadata": {},
   "outputs": [],
   "source": [
    "vector_store = FAISS(\n",
    "    embedding_function=embeddings,\n",
    "    index=index,\n",
    "    docstore=InMemoryDocstore(),\n",
    "    index_to_docstore_id={},\n",
    ")"
   ]
  },
  {
   "cell_type": "code",
   "execution_count": 285,
   "id": "772fa61c-f90f-466c-a5a3-80ef846099cb",
   "metadata": {},
   "outputs": [],
   "source": [
    "# index = faiss.IndexFlatL2(len(embeddings.embed_documents(docs)))"
   ]
  },
  {
   "cell_type": "code",
   "execution_count": 286,
   "id": "e72ec0ee-faa3-451e-a8d0-d88d0c6d3e58",
   "metadata": {},
   "outputs": [],
   "source": [
    "# vectordb = Chroma.from_documents(documents=splits, embedding=embedding)"
   ]
  },
  {
   "cell_type": "code",
   "execution_count": 54,
   "id": "81da3257-ef95-4f8c-b0cf-8767262fa8f4",
   "metadata": {},
   "outputs": [
    {
     "data": {
      "text/plain": [
       "['256de1e3-f0c2-4b3c-a218-be505a347979',\n",
       " '3ef396c1-d5a3-4226-a54b-89f2a36c230e',\n",
       " '454ffc00-30e2-4fe5-916b-d944bf42ecc6',\n",
       " 'b5346508-243b-494d-ac03-087f74875dfc',\n",
       " '7978ef21-dc07-4a24-910e-a8c3c18424b2',\n",
       " 'ab7ec54c-0945-406c-8186-6f6e8d414c86',\n",
       " '146ce646-03de-42ef-bdc6-42c9410df9d9',\n",
       " 'b57dad93-0fa7-47a5-8591-65ee042f00a7',\n",
       " '12d50ed3-cd65-498f-84cc-1912ad56d678',\n",
       " 'b8af1a40-c872-4d9b-91d0-c86281eb01e7',\n",
       " '9e08a49a-e6f0-4222-9e10-5f0c666ea7a6',\n",
       " '1a78af0f-aafc-4e20-8637-68e8d158fe38',\n",
       " '996a5e08-3c38-4c91-abf0-9174fd2d04f6',\n",
       " '9b71c86c-8172-4846-bb69-5af5dc640fa8',\n",
       " 'a3bf9f3a-5556-4c47-8b36-414b1b757307',\n",
       " '1f419dda-f088-43df-a8cd-17d892eb8c18',\n",
       " 'd44bac8e-428f-4ce6-9e33-6a04ea980354',\n",
       " 'f3fa52b9-b0e8-4ce8-ad66-499998f59704',\n",
       " '0013c1cd-3fa0-47f8-952a-d43f3ceaf0f2',\n",
       " '14760b84-80b9-4082-8992-e7eb6ef4cace',\n",
       " 'cbdc97f3-2850-4dea-bb3f-16c5666bb7a0',\n",
       " 'c1d1a1b9-c002-4ff7-8ba8-ce4f88696a21',\n",
       " 'e7b8f565-d46b-455c-a020-0a800dcdab9f',\n",
       " '9e008887-0155-4159-ac9a-7e13b57fc911',\n",
       " '003ced82-b4d8-405b-8d51-f2f58d765535',\n",
       " 'c3fc98eb-25a5-44ed-87af-4e4052cb5e63',\n",
       " '7cbb2d4c-0b8f-4085-894c-f684f364a03b',\n",
       " 'd3bf973e-6b64-477c-b2fd-3d7358be98aa',\n",
       " '537f50c1-dfb3-42ed-a530-605da771912d',\n",
       " 'a5fedc82-f0b9-440d-87bd-8d84a188d340',\n",
       " '822db1aa-f980-43db-b452-840ebf1a54a3',\n",
       " '22035b04-987c-48df-9509-8a95c49b13e7',\n",
       " 'fb4679f4-1809-457c-95d8-947b08cdcead',\n",
       " 'e3392cea-1a2f-49d2-b871-c3c208175064',\n",
       " '95b2f63b-b352-451f-ac7a-65a9c031e29b',\n",
       " 'c4e46a25-5156-4fe9-8769-70d645b9334b',\n",
       " '19695972-fd5e-4afc-bbf5-83d5ac66257c',\n",
       " '409f5685-8596-4446-a3d3-f64509ae93c6',\n",
       " '88aac04d-39c2-434e-90ae-6323af8b9cfc',\n",
       " 'a67e4759-0077-4c63-8044-db6b6e4c1b0e',\n",
       " '346025c9-71ed-4e30-8753-70fc690b00fb',\n",
       " '95a6ea43-cd66-42e4-b50c-7439159c08f4',\n",
       " '2084acd4-cbcd-48b2-b01c-d446b98fc98d',\n",
       " 'e623705c-c4e5-4ea7-843f-aa422760f6be',\n",
       " '7f1539f2-7df0-4785-beb8-eb4616c304d0',\n",
       " 'cb2db952-96bf-4274-8a14-e99f4e36e79c',\n",
       " '0ef473f0-3894-4124-b1a7-251ae70348de',\n",
       " 'adf59ce8-6d3f-4cd8-9ed7-f7b52e4a10d1',\n",
       " '2d2739ea-9bd4-4374-a18c-60b6f737188e',\n",
       " 'ae7be735-a4f3-43c9-b472-bd16951fe6f8',\n",
       " '6b450e34-121e-41dd-b979-054b6eb51740',\n",
       " '307c7732-5666-4091-a2ab-158247720aa1',\n",
       " '9c758f81-665d-416c-a7df-00e0556d4034',\n",
       " 'cefc7c91-7e65-4e39-bc1c-0f651fe104f3',\n",
       " '5ba6735d-329e-4cbf-bdc5-50f26f7c349c',\n",
       " '8cb997c4-1b87-48fc-829c-c3932c102bcc',\n",
       " '2c93ac2b-4a84-46ba-b82b-8c318859b2e9',\n",
       " '01cc7013-ea7a-4c59-8caf-e07a397c67fe',\n",
       " '3c1e96a1-db63-48d7-b3aa-9727fdd6ba65',\n",
       " 'd4d90e20-046d-4d07-9bbd-a20d33cf6b91',\n",
       " '4bedcd93-5edb-4aa2-8d19-bd48a676d8af',\n",
       " '17841565-1e5b-4003-9b53-6d07f5a057f1',\n",
       " 'e0678218-8e5f-4c60-823a-c353a4ba2640',\n",
       " 'ff6d4f9c-bf60-4361-94cd-44df031d45a1',\n",
       " '1ef5249c-b8e6-4a76-b74c-c2d91b451057',\n",
       " '58f5b9ec-68fd-4f1c-b6ce-d53d746a6a93',\n",
       " 'b8e38708-3c8a-43b7-a56c-da5a79d84011',\n",
       " '69a3313b-f2cc-4c24-bc33-fedf8cd3098c',\n",
       " 'fa596506-caf2-4726-8297-820d39e9aee4',\n",
       " 'a119288e-3db6-4470-b192-11158da6f44c',\n",
       " '3d9fc27e-15c6-4772-90b3-45afec3705fd',\n",
       " '7e611937-d896-4c3b-a0af-5f2412e7ef95',\n",
       " '46e63f96-562b-4c21-91e0-9817bac2f4f3',\n",
       " '2a81e9c1-8258-4f32-a1a7-5bb0a72f087f',\n",
       " '7e13e725-b374-4a9a-b380-fb8c65ba5407',\n",
       " 'c9df4669-e5d5-4c79-b2a5-aa280b93779d',\n",
       " 'e18e57a4-69ad-4b56-9127-d72df37079ed',\n",
       " '42f94f26-0516-47f5-adb3-575fec7618c8',\n",
       " '5c86f73e-9afa-4b04-a155-f4bfa84d99fc',\n",
       " '2916c303-a822-4da1-a1e7-cf99dc458cda',\n",
       " '03da3e3d-a4ac-433e-b69e-77adecfb8c11',\n",
       " 'b36c6dfc-6582-4d24-9b79-002584d5fcfd',\n",
       " '8eb88533-eea3-4da0-909c-c5ada28bdebe',\n",
       " '8e379a48-3f4d-4e5a-b258-2104db76490a',\n",
       " 'f954dba6-75df-4e17-a65b-3f9a252d42d2',\n",
       " '1e3dea6e-23fb-4512-a236-bf3636f0c2f6',\n",
       " '2b00ea51-aedb-4b14-a288-ca3612957cd5',\n",
       " '66efc01a-3a23-401c-b3a7-1c19eca631d8',\n",
       " '51dfca1a-afef-4762-bfdc-b725de138bb9',\n",
       " '5cd15851-806c-410a-ac7d-ce26e89ef091',\n",
       " '4f0ff840-3235-4c8c-a685-c1f387e20ac3',\n",
       " '49859f30-5d96-470a-abf3-82ade59f6eb0',\n",
       " '8c2ff3e5-e2a6-4c73-9e03-7c77b774918c',\n",
       " 'e9f4628e-e675-4ad1-930a-9d93b74c8a12',\n",
       " '91ef1ac5-46de-42ff-98da-2e4e61972f4a',\n",
       " 'e5761159-2169-4f77-9fc9-bf9ba58a70d9',\n",
       " '970c632b-6e85-45a3-b8ba-4a2fff65621a',\n",
       " '23ecc19a-6cc3-4b4d-abe1-40b94fbc79d0',\n",
       " 'f6be8a1e-12b9-4cf5-9040-da5cc5a620ce',\n",
       " 'f145659e-e95a-4cf6-b781-4a56af786164',\n",
       " '5e69a32c-024d-488b-94ce-5e8bfb5dd0e8',\n",
       " 'b3cd349b-d341-4b1c-b678-0606fff27abe',\n",
       " '034a5286-27ee-4f75-a19a-d2a3da5bbde5',\n",
       " 'a579641f-67d3-4ebb-bbbe-17a3b1b21ba2',\n",
       " 'ca4cbd03-4f36-4547-ba36-dc12d5f3cd0c',\n",
       " '62a57dc4-d4e4-4609-a9dc-95713dcf372e',\n",
       " 'd762f18c-a4f0-43a6-8138-90b2d52a4d8d',\n",
       " '9482f716-e91d-4645-b312-a3648ee9d507',\n",
       " '54ecf804-be88-4538-b3da-dde94d4c198b',\n",
       " '5fb6e72a-d5f1-4594-bbf0-e13ca6978366',\n",
       " 'f9c5422e-7300-4650-bea1-c57ad0902ccc',\n",
       " '9be40aa6-9203-4d4d-8cb8-bba5c9377144',\n",
       " '09c2fba1-0624-4c5e-a821-58cd189ca93b',\n",
       " 'e951f684-c6d0-405c-9d20-a3c42ed9fa25',\n",
       " '3e8c8a93-ee69-451e-b9de-e893f49795ea',\n",
       " '5180bf23-5f86-4d97-a27f-95537d0d4b2e',\n",
       " '582e5af9-55ac-48e8-8cb8-a7309003dac2',\n",
       " '9703597d-6151-462a-871a-d577dc6295e7',\n",
       " '5e5f6cba-3dbf-4a70-8384-6056a6649f33',\n",
       " '4ef26e92-4ede-40c1-97e0-a6c3a229a59f',\n",
       " 'd95fd823-cc70-4680-be09-18b9bc248151',\n",
       " '890dfeba-4250-4fba-81d3-c7eb2e8df69e',\n",
       " '06266672-5be2-4aa4-9f88-b4c84cd8c0be',\n",
       " '367baba6-b9d3-44da-a4cd-a9b336bc3808',\n",
       " '59eb24c2-f12f-4da3-aba3-182fc8e2fa46',\n",
       " 'ccaf509f-5d24-486b-939f-eba4bfda25c2',\n",
       " 'feb4b12d-75b1-44fb-9020-f870714e408d',\n",
       " '1c901dbc-bb5f-420c-ac51-96e32b44b5a9',\n",
       " '2c9f715e-bbb6-4d1a-9153-083fe8f8dee6',\n",
       " '8895fb90-a754-4ee8-8ec9-83c301246f4c',\n",
       " '1160f05b-c337-4a83-a448-11ba2642a782',\n",
       " 'a6cd270f-4398-4bf8-9fa9-9eefc68692d7',\n",
       " 'ebd4f0b8-237a-46bc-b809-a2e2511e2631',\n",
       " '9b652b19-abb8-48e4-9425-588b39948e42',\n",
       " '0014abf9-0e93-45af-81aa-6c4c4fc9d995',\n",
       " '949cdd7b-fa67-4740-b588-7947f27d8d38',\n",
       " '72004549-e0e8-4366-885d-3dbd07a028d9',\n",
       " '97cb9afb-77c8-4169-816f-d54deaffe28b',\n",
       " 'c96c20d5-b965-4509-ba18-956732d572bf',\n",
       " 'c9d036e4-2e9e-4202-b3f6-1dc4d0fca53e',\n",
       " 'e825fa4c-3540-401f-b43a-0c217d982b79',\n",
       " '79b3cf40-3053-4b59-93e3-6dfc2e2f74c6',\n",
       " '716e3ae0-9b04-47ae-8866-9c0a048c4d19',\n",
       " '502fb616-929e-4c1e-b0c2-2f979035c21d',\n",
       " '18c2fa89-02a3-40a2-b326-b5924c13bca2',\n",
       " '62db3e55-d9fd-4886-a493-8a6293c0368a',\n",
       " '3b076413-6d46-41cd-bc92-4d3343717a46',\n",
       " '009ea025-1ae6-43b3-be6b-0682f4398f16',\n",
       " 'cc2ad30d-d2d1-4320-ac36-908b8cb5c578',\n",
       " 'cd045eeb-6922-4c36-bf22-ffbdd0aa0eff',\n",
       " 'bb14432a-9108-4291-b247-a765735c6086',\n",
       " '6d657d13-f116-4653-86d3-45d74df0a26c',\n",
       " '3cc82928-9104-47ba-89b9-e6875c33d2ed',\n",
       " '34afebdd-8f4b-4200-826f-73c83a5060d6',\n",
       " '2f32aedb-7d29-40a1-a984-82582b7ee06d',\n",
       " 'b7e4b385-8bc5-4cdc-914b-f91bb7fca7b5',\n",
       " '1117dbae-acd4-4d08-97fc-01818746f27d',\n",
       " 'b2dd103f-54ee-4198-9148-980fafba2abc',\n",
       " '28a94180-f381-4943-a51b-1060506b31f2',\n",
       " 'f60898a6-defb-4222-8b23-fb0ff93e34cc',\n",
       " 'cde54fbd-3602-4274-8df9-7c06855ce90c',\n",
       " '513fa1c1-f436-4ca6-83d8-a5cee89636ef',\n",
       " '50f2bb01-6b20-4087-9e93-e3015bcd0bd6',\n",
       " '53ddadc3-ec5c-4e46-81ea-f9695366faa3',\n",
       " 'fe78c32e-8f58-4c25-933c-eec08b849fbe',\n",
       " '0774714e-2752-456e-affd-a8ce700a62c5',\n",
       " '463d3764-c53d-4cb3-9f00-2049103f87e2',\n",
       " '124aeebf-ca99-431f-8861-2bb88c18e5e5',\n",
       " '8d9b066f-d2c8-4d95-8d58-0772b0f08b5d',\n",
       " '90b8c2a4-3243-4926-a657-eff9a57d5a9a',\n",
       " '4d27a356-2055-4890-9206-a4ca2f4a69a9',\n",
       " 'f57255c1-f53b-4f56-8df1-1624a6dbadb5',\n",
       " '133176e3-41cb-4d5f-bdee-504e069b8eeb',\n",
       " '6dca58b5-3c90-46d5-a92b-da79b7c9fa62',\n",
       " '536a771a-dd18-46fa-8671-fdc4cc04503b',\n",
       " 'f0671adc-304b-42e5-ba4c-297eb0d26c4d',\n",
       " '1d689824-6b1e-4ebd-9e5b-c8b5230c127c',\n",
       " '997e6a61-ef65-47f4-a6f2-dfda44d0f602',\n",
       " '768ea61d-9237-484e-b457-7a20c5813870',\n",
       " '397865d2-7c2f-4af1-8875-a0fead6771dc',\n",
       " 'e60cf65c-e59e-4c63-a626-e9cde93626ab',\n",
       " '6be5b614-462f-4a94-8030-3ec38e6f8c09',\n",
       " 'a3f7dd05-0d35-4c63-85ec-efd433d3f39a',\n",
       " 'c0881ac2-9943-4329-9218-fd624974b632',\n",
       " '71e920cb-34aa-4e35-b531-6a39dc88bd65',\n",
       " 'ffab2f1b-3cb0-4bfa-b16a-5ae8d2891b21',\n",
       " 'cd4675d1-0574-4c04-83c2-33e2c2ccfc1e',\n",
       " '370c7cbc-d56e-4a83-98e3-d8e7df8d71d1',\n",
       " '1c6cb559-530d-46fc-a424-7c8aa13a7dc9',\n",
       " 'd0c870ca-4b4b-40d8-b6f5-e86292bc8cd1',\n",
       " '2c29d05a-0a69-40d5-b568-5c625a8ad3d1',\n",
       " 'f353541c-cd8c-414d-82c1-88cdc8c3707e',\n",
       " '987febe6-af39-4759-9cbc-07147d83c759',\n",
       " '77db5b41-07d1-4e7f-8a01-87c7566f0f57',\n",
       " 'cd3bca07-b4dd-4be6-a06c-bd912913f649',\n",
       " '154f6976-9c3c-43d3-8666-a9b2bfafbb3d',\n",
       " '962f10d5-8135-425b-a7e7-bf316d6b2955',\n",
       " '5ce11b9f-1cbd-4801-830a-56672eebef2f',\n",
       " '5b5b89e5-823b-4c78-95f6-81019d6e6014',\n",
       " '12cde032-e6e1-4baf-8fe2-493ccf7d668a',\n",
       " '73cfc0a3-ad55-4f5e-bc2d-3975198e5ef3',\n",
       " 'fa3646a2-f96e-42e4-a81d-dc05d22b2ec5',\n",
       " '639fbb64-c0ec-4921-92b0-0b5445ed5816',\n",
       " '0cb2ce78-ee2f-4a4e-8d93-ff21f319b6eb',\n",
       " '91fe0c03-76e4-4c01-9965-fef28a52398f',\n",
       " '97b704b8-5c24-4b68-ac09-ea039f69d542',\n",
       " '517f241c-9e27-4da6-b0eb-5e65eead7f14',\n",
       " 'f0bb3c56-7716-413b-a1d9-adaeeea081fd',\n",
       " 'cb0c03bb-1c90-4661-b03c-344750f7fc03',\n",
       " '90bd8920-db9c-47fb-9598-8d3b82fde543',\n",
       " '032f8566-92d6-4855-84f5-69b430b20ba4',\n",
       " '5e72e66f-2a66-4d23-a54a-155ad424ec26',\n",
       " '94f581c3-c427-4ac2-bee9-4e849e23c8b3',\n",
       " 'f468d50c-4a4b-4c61-abf2-8c6594173c06',\n",
       " 'acf9acfe-f6be-42bb-88b8-4329855b4738',\n",
       " 'd7d95851-d520-4554-8a46-90f85398e705',\n",
       " '773b827c-0a71-49ac-a8f9-c7c9d59e3197',\n",
       " 'c33327a5-ba73-4e29-93cb-fc6c9e34c63b',\n",
       " 'a8d82e71-9932-4ac0-a947-af20b155055a',\n",
       " 'bb1b3647-7d69-4687-9a6d-7488826d69a3',\n",
       " '1b5aafea-f962-4985-bc92-62b479b439f9',\n",
       " '12d4c206-6bbf-4340-9e36-38ed6efa709a',\n",
       " '5a6554bf-9313-4443-9958-760b2d0f6e9a',\n",
       " '8d8d3c12-29c3-4344-aeda-8d80ae11c168',\n",
       " '9f6a0b94-1067-43f2-8c2b-10fe274f37c7',\n",
       " 'bdc4ee5c-c214-452f-b8e0-c610a42777b2',\n",
       " 'e00fa7d2-a542-4e40-a3de-05f466f22288',\n",
       " 'e04b5cfc-17a1-4bfb-b0f7-eb4be28d3287',\n",
       " '3a0e6b08-de96-4852-95e9-b813c7d54437',\n",
       " 'fcd8f691-4971-4f84-82c3-ddf63e918295',\n",
       " 'd5641ee9-2a9e-4149-be53-f6a905069a83',\n",
       " 'fd4f59e3-e565-43bf-a80a-7bcfb8b5282c',\n",
       " 'f83efee0-58eb-438b-ac03-fb0f7067d16e',\n",
       " '095b4a8c-8e70-410b-b909-fc3eb5cea9da',\n",
       " 'bf28ca43-2647-4892-bcd7-1c482a9ddb77',\n",
       " 'adf330d7-26f8-44ac-93ba-88b694d5d290',\n",
       " '1169ce84-4c3e-485d-a7fc-574e3018d0fb',\n",
       " 'ff4f10f2-03e6-44dc-ad8f-35bec6ebf7bf',\n",
       " '378ce85f-e802-4bbb-b8ad-1a393ae5da9b',\n",
       " 'bcae99db-b49c-404a-a8e4-7b6884a871f3',\n",
       " 'a1a30a0a-68bb-4cd5-ba28-ddbcac7f5207',\n",
       " '77a72612-3e73-4d07-80a7-edf12812211f',\n",
       " 'eba82d3c-0d0a-4952-b4a0-593a19c4977a',\n",
       " 'a6e06728-01c6-4e53-b175-6ffcff052b08',\n",
       " '58893b0e-83a5-4c19-84d8-e803410cfe84',\n",
       " '1dd9c497-0cc6-4829-81ff-97916655bf5e',\n",
       " 'bace7924-a682-4c91-8b15-527a08a1af17',\n",
       " 'c87ed211-8cdf-4655-86c1-19c6c3efe2cf',\n",
       " '18f777f0-1942-4655-a8f9-9b7ea3a71f43',\n",
       " '15b1e9b7-1cf6-48e2-a604-bfb4ebd0f9d1',\n",
       " 'b05b55bd-2811-4345-867c-ca32a94140cc',\n",
       " '501f62b4-5459-41e7-92f1-ab94c2090b56',\n",
       " '1fd404d6-2c2c-4fbb-9278-ce54250d5a9b',\n",
       " 'd019759d-9aa5-4c8b-9b89-c49175f42326',\n",
       " 'e56f9a4e-5ea0-4cad-bf06-fcc174ab9abe',\n",
       " 'ac0e7d50-d647-4c4e-8a4b-76c1cdac5360',\n",
       " '19eb1a85-6b9e-4beb-b606-473edd226ffa',\n",
       " '9ab424fb-614d-4760-a219-eb6c24b20ac5',\n",
       " '13000e3d-c8bf-4b60-af4c-8c86577b89e3',\n",
       " '5b967742-fed8-47ca-b89d-85dbb18b45ea',\n",
       " 'ed4b6932-3495-40c0-adc6-ebdded913e46',\n",
       " 'd986228c-7959-4365-aae1-90971a13de90',\n",
       " '1803947d-efa3-4f80-a77a-7c324277103b',\n",
       " '7c87741a-65d9-4765-921c-5a9469f80730',\n",
       " 'e5a98fda-8dc4-4768-9e4d-71a55f3d9287',\n",
       " 'cbc697f3-1af9-449e-a893-88116d365fd2',\n",
       " '064be1fa-d563-4e76-912a-2e053e86d14c',\n",
       " '10a10c62-b9b2-445f-973b-371c55977c28',\n",
       " '7f56d43d-1239-4c2f-b2a1-b593c2862cbd',\n",
       " 'fdb072df-a359-41b0-bec0-66ece62828ca',\n",
       " '55a2d6c0-e6b3-4294-a223-39ffa1e07ebf',\n",
       " '281a3751-435d-4e8d-9f92-4cfcbf70b298',\n",
       " '40e70827-3502-4a20-a0ca-3f0615a5c363',\n",
       " '6b9edb4d-e16f-47d2-a831-f6c3bb61bcfd',\n",
       " 'c37e90ed-e475-4eb2-aa6b-81a07e1f962d',\n",
       " 'daab2af2-62ed-4fea-af8c-e043f84aa0eb',\n",
       " 'd276310a-0fec-402e-9575-68c5d1dcf71a',\n",
       " '759c3392-4f03-44cd-8a23-4b0cc0589ea5',\n",
       " 'd4d242a9-7407-449c-a67c-f0c7d9d3ec83',\n",
       " '596ba474-12e2-4f0f-8fd6-799ffed32cdb',\n",
       " 'c9ab4712-568a-4f38-8f85-0b3059832f15',\n",
       " '2e0dc288-10b3-4ce7-8f9c-53d461527408',\n",
       " 'bfe9492e-f58b-4fc6-b583-ae5a832507f0',\n",
       " 'e56b02cd-df03-45b5-b891-acccb839e86b',\n",
       " '84e5bfc1-9fe0-4372-9e02-2476023b1bd1',\n",
       " '84209bbe-4fea-4c24-9445-16b915439b86',\n",
       " '58938935-f217-4bef-8c03-5f8f86ce9775',\n",
       " '3c735fac-28ac-4049-ae4a-aa8f933fac67',\n",
       " '578c93af-0622-4a5a-9c04-d116dba240ad',\n",
       " '05cacdff-f54d-422f-b943-ce32bbb81f09',\n",
       " '37508049-e737-491f-8f79-648205954822',\n",
       " '59a04c72-df72-407f-85c9-0bad8f74b7b6',\n",
       " '4f7281e2-065d-43c8-b07d-c93cec1acde9',\n",
       " '0a8ed4ae-4f0f-443b-ac7d-3acdc86e8a2e',\n",
       " '9fa5a8d4-a1ed-4e19-a642-2c9b4249760c',\n",
       " 'def03b71-21ac-4af9-bd65-4b1e88e78969',\n",
       " 'daef6968-cac5-4391-8ca7-492d3cfaff3f',\n",
       " 'eea0a02a-ba25-4cb0-b0ac-e32de2d7467c',\n",
       " '8970aebe-4641-4708-a35f-fd9cfcc0a16e',\n",
       " 'fd3e902b-d61a-4524-aa1d-13266b725626',\n",
       " '28d2a485-12cb-4e61-8b06-99da1cb01cba',\n",
       " '711ca42d-ed2d-47af-ac55-3442cd661cac',\n",
       " '40d2f111-3a50-4725-a0f6-b9972a055c53',\n",
       " 'cfb894cd-41a8-43c1-9e33-21675d2dc185',\n",
       " 'aef3022c-7c71-4712-b8d7-b9ff2ba1a459',\n",
       " '835ce4bf-880d-4306-b02b-2c5f8ae225c0',\n",
       " '607cf880-d450-403f-9cdf-990acc77633f',\n",
       " '3f78aa27-f9d9-4f44-b52d-d2c2d358e141',\n",
       " '7cdb974f-b3de-4c70-9fe7-5a37c5ff8a35',\n",
       " '352fc6db-8f56-4250-bfad-1976d280b557',\n",
       " 'bd15ad14-64aa-4c6e-86f8-d80f8b309305',\n",
       " '46b47518-3507-4729-ac42-250b81b3e5e8',\n",
       " 'e114c712-1105-418b-b3cd-460c51792ed7',\n",
       " '4eb28e27-dc52-4020-9a42-da434d0a86a8',\n",
       " '11d86cf3-ec96-4e5f-badb-fac1a500e5f1',\n",
       " '05e8e7a4-40e0-44f0-bdac-e98ddf15a6bd',\n",
       " '25ca3856-ffda-4033-b107-d790def969de',\n",
       " '57bd302c-1dce-46dd-a92b-9456b6cd444f',\n",
       " 'e1c5a801-2a0d-4fb3-8d50-d99e50650863',\n",
       " 'a83f96a3-8538-4d24-9330-625fadad81bc',\n",
       " 'ba7d18cd-511b-444f-9d63-e9da3062df68',\n",
       " 'e13d2f4a-de46-4a5e-a1ca-0939b4ec2e73',\n",
       " 'd5909a1f-143a-4fbe-9eb2-8a2c8f110e1d',\n",
       " '3d9882bf-7c20-4b68-b9a4-ee5a08c22067',\n",
       " 'e54a4e4f-3b1b-463c-a244-fa36f18377cb',\n",
       " '012dcc4f-a21a-420e-84be-ee901369dccb',\n",
       " '951aac40-78cb-43df-8c8c-1522127737af',\n",
       " 'e51dcfd1-62b3-453d-8aeb-81735fe7bd9c',\n",
       " 'a81599b7-ba42-4a25-847a-2a9471ae6fb9',\n",
       " 'bf602eb9-d241-4539-b08c-2e0a3beec583',\n",
       " '438409be-f9cf-43e3-8281-0ac041060231',\n",
       " '81d93a19-debc-4c0e-86ad-9bb460a72c02',\n",
       " '6a030388-d63c-4010-82cc-5f9c91671cb5',\n",
       " '13c05050-83d4-4ada-87ec-de69fd61cec5',\n",
       " '1edcbda3-6bcc-45f2-bf58-94639b4e4b1a',\n",
       " '4d8a5961-15f5-427c-9eb9-ce09082ef9f5',\n",
       " '0bfb6bb0-946e-481d-94e7-f1344aa7eec3',\n",
       " 'fe49fae6-7b9f-4251-bb81-9f66895dc17b',\n",
       " '10e774ba-fe2c-4814-8e77-275aa473a63c',\n",
       " 'e38c2eb2-5c6e-4b4a-a4d1-fe35f043a63a',\n",
       " '05e60c32-6941-4855-b9ac-c840cead820e',\n",
       " 'a9af9bef-ee7a-4da0-9877-61c3f87c6d46',\n",
       " '4e86afb3-f341-4247-9650-aceb15649638',\n",
       " '297a0811-caae-49a7-926f-bd89dbb720d8',\n",
       " '466a76d1-6cc1-4be3-a657-b6dc8afb1870',\n",
       " '0412007c-f0da-4433-b5c0-7b5fe40ce517',\n",
       " '1b5f7b9c-337f-4093-9764-cb3525af7b58',\n",
       " '8daaf808-6555-4e90-9ac6-6970d939b769',\n",
       " 'e1524206-d20f-496a-8a5d-330a41b989dd',\n",
       " '924c902a-b311-4e26-99ae-840e9d743b85',\n",
       " '4051e68e-d1d5-420b-a9b8-5b4e3a5665b4',\n",
       " '744871af-b378-4646-a260-08e3b308ecce',\n",
       " 'e43c8ad1-445f-4a08-b617-8049496ba80d',\n",
       " 'd672b169-d7d1-4186-aaa3-9e59c093e3e7',\n",
       " '1bfaa856-0142-44a9-ae1f-ec2966f39996',\n",
       " '7d9f6b81-83ea-4cdc-8ebc-8d1e363aa2d9',\n",
       " '96a16cd2-8554-4c0f-a262-dd28617b03b9',\n",
       " '505bde02-4bca-46d5-bc6e-4a34efcf554e',\n",
       " '765dd49b-46ff-4ba9-93ec-cb1f3fa9cc6a',\n",
       " 'c325a158-92ea-4fd6-85f7-dc2d33efde5c',\n",
       " '88d12788-5792-494d-a4be-5cdf7735c484',\n",
       " '8c9d2d97-91c7-41c3-b939-4629f73b5bb6',\n",
       " 'a0718721-a801-41ea-8069-aa9a0b707f80',\n",
       " 'f6d13e0b-44d3-4859-b9e7-7059678c2713',\n",
       " 'bfe002f8-6819-433c-9c94-a87012fc0f03',\n",
       " '15dc277f-af20-4bac-b8e8-2c8121fba9c3',\n",
       " 'f9041d1c-831b-4d08-8494-0cbbd0bcf3d0',\n",
       " '5a5d8514-4b8e-4d5f-bd03-7802c5ee1542',\n",
       " '6752b1a1-0e6e-472e-ba45-41567ffc6523',\n",
       " '0cf2ea62-6e0f-4abb-ac76-5a719fada29e',\n",
       " '06a58c19-ba43-4179-be3b-cd7f509314b5',\n",
       " '5ff5c374-d379-4059-b7a0-e69e5ae6b37d',\n",
       " 'baeb89a1-5b5c-490f-84c2-1404fe656889',\n",
       " '49caf6c8-133f-4fc6-a745-5c95d2f2d1c2',\n",
       " 'fd142eb9-52b0-43d3-98b3-31998ed242c1',\n",
       " 'f0ef201b-4150-40d9-8bef-ecc0f29b4d86',\n",
       " 'd5675c6b-e4fa-4907-80cb-0fed0bd7448f',\n",
       " '0bf0d90b-4a94-4750-a77d-e219a5d6dd7b',\n",
       " 'fd62d5ea-972f-4f53-bc98-3fcb16f27b59',\n",
       " '6b5004a4-84f4-4699-8dbb-573fb72c8708',\n",
       " '20b49114-8e6f-4afe-b52d-5f641aec8d8a',\n",
       " '84c48157-d880-4136-b95f-a29860e4b005',\n",
       " 'd53c68f7-33e6-4cc8-be0a-3499bb6b11ae',\n",
       " '9277f865-c2eb-4d4e-8961-d05cb76a23de',\n",
       " '7b202f03-5d3e-4f46-8e02-17de70c4a9ff',\n",
       " 'fb992121-f939-4182-b668-0e0d5d2e7aa2',\n",
       " 'd2fe5a51-88b0-4a00-98fd-5bad42cfdbbf',\n",
       " '3a0380bb-90fd-4df3-b491-42b79379f85e',\n",
       " 'cb4cc489-f74e-4797-9e8e-a80f9200d609',\n",
       " 'f4135b5d-be60-4582-8125-79e14887aa05',\n",
       " '73f85cc8-4f3c-48a2-91a0-d3e3518b1906',\n",
       " '230ad90f-49e2-4a96-bd0b-5899ff5889e4',\n",
       " 'b0d23361-9868-40bb-a19d-745ce7e081b2',\n",
       " '85de838a-6dc8-4898-82cf-95cb02b005b7',\n",
       " '9d0637c7-10c9-470c-aa89-6d3b28b53a9f',\n",
       " 'bfacb92d-a6b4-4371-928f-6f490aaf7b55',\n",
       " 'a440cd0a-8aca-4e55-bf5c-e7a415c6a9c3',\n",
       " '54b6952a-c73c-4e02-a396-bf159a82dc60',\n",
       " '1b8cad6a-df3f-4d20-9eac-fdbd2ff4ac3d',\n",
       " '5058d94a-8b81-4ba1-b708-c69cdfb629cf',\n",
       " '663e7706-2226-4b2f-bf40-5067f8dfc884',\n",
       " '3fe3f573-25f2-4fa7-b27f-b414eae740a9',\n",
       " '39388e03-0de3-4cf1-8abd-c28438411b7f',\n",
       " '01c7b16b-e57c-4acb-96ce-209d15de5000',\n",
       " '29d3fd7e-ebab-4971-9a7d-169b7a6b20ce',\n",
       " 'ee80b285-d2e7-4397-b72c-5b7d7bcd9057',\n",
       " '9be67b2c-d983-4791-a507-172faf6ef583',\n",
       " '7945af95-1bb9-4145-a0ea-a75440672f7a',\n",
       " 'c1e864bb-d394-4e41-8acf-d5afde573ae8',\n",
       " '613193b3-358c-4862-9e79-1b8a6b9f298b',\n",
       " 'ed8bab6a-2145-403b-b516-42f36312ad46',\n",
       " 'cb5a4663-274a-4d41-8351-8fb0dd42aab3',\n",
       " '5c4c6a26-944d-4fff-a0bb-e15e0244c62a',\n",
       " '3f10b71b-626d-4c76-b3bc-a53ea15a877f',\n",
       " '76d97b4f-e483-46e6-aa70-4ba3dd5761b6',\n",
       " '87a13b3a-ff8a-4ec2-bd9f-46d7c58e6651',\n",
       " 'c648c424-0592-4b37-a4a5-c976518b39fc',\n",
       " '7843eea2-c38b-4231-8b1d-23e954b29320',\n",
       " 'e653e23b-7e79-47c2-a64e-09ef85e57822',\n",
       " 'e0658de3-2462-4c32-abec-5758cce22e70',\n",
       " '1efa83c1-7471-4f90-8cdb-aeb9ec979a71',\n",
       " 'de72ccc3-b44f-4ff3-80cb-dea0232fba40',\n",
       " 'f48cc170-2ff9-4e15-b754-3a018a2be0d3',\n",
       " '835f54df-082c-4d9b-8265-8c0971b679b9',\n",
       " 'c67d11eb-edfb-435f-a37d-80276a282788',\n",
       " 'c3fa6555-dc9e-4dce-9295-24565a7f8418',\n",
       " 'e8148a2e-8a2f-4bd7-875c-987c0664d87d',\n",
       " '581b5eb6-9df5-4c6c-b020-fe2bb97fbe5d',\n",
       " '04b76897-ba3f-4336-ab18-438b8e88b06a',\n",
       " '2df7f2af-9a65-48b5-8483-e5b20566ee77',\n",
       " '5854ab1d-38d1-4669-88f2-3b527da9999e',\n",
       " '2a5b8edc-2080-4b9f-a41f-efce48bbd9cb',\n",
       " '726adad4-6c10-4ad7-aa30-a55895b3dcdc',\n",
       " 'bf25fd4c-6859-49da-a443-89ddc132caf0',\n",
       " '007053ab-f1fc-401a-909b-29ea9d807c69',\n",
       " '4c32406e-af58-4254-9c7b-15125974aa46',\n",
       " 'dbe31ac0-9e90-4f8f-b3dc-fe031fef616b',\n",
       " '706d0007-2d0b-4a8e-aafe-e1d62fd9298f',\n",
       " 'd5f65c40-bdbf-4db8-b4c1-66ee4469c86f',\n",
       " '2fe3c063-bd47-4d5e-a09e-25c7bc7c840b',\n",
       " 'dbb2f697-c68c-4227-ae73-dcd4b63cbfc5',\n",
       " '0a15b8f7-707b-416f-afda-f936e08401bd',\n",
       " 'bde3de1f-e017-4050-8970-55a9138cb0e2',\n",
       " '8df6786c-c0e8-40cd-8c80-402af81e83fc',\n",
       " 'c4449028-3e70-4664-a432-b8b1c6cb6f91',\n",
       " '72bea419-376f-49fa-bd39-ae1791f7c3a1',\n",
       " 'b2857441-2ad6-4ceb-a61e-af00f9746b67',\n",
       " '0b8b1761-acf0-4e8d-8e95-4ed02902034b',\n",
       " '00c4ed5b-cd3c-484e-8980-f0e4df23f379',\n",
       " '3ba8eb3b-1974-4f25-b2c2-f6b72c61f2e8',\n",
       " '00d94b5c-e521-4251-8472-487f6b148b04',\n",
       " 'b57e72c1-cd49-4e6b-86cb-74be58bfa266',\n",
       " 'd096d19f-e25a-4170-bb16-bdeafd79b22b',\n",
       " 'd986cbfd-94f5-429b-8c5b-d56246d09c54',\n",
       " 'e7ca0dab-bf04-4052-8580-95894095dc07',\n",
       " '71fe34e6-c3cc-470e-9e03-fea976505922',\n",
       " '502416f8-9908-4106-b378-e4c8d3d085c3',\n",
       " 'e079cb7d-b4a5-4a19-9d36-abba4203a939',\n",
       " '1f9668dd-a4f1-42c8-a43a-3820f345cf82',\n",
       " 'd4fd4198-b063-4e28-b9f7-711ad99e2469',\n",
       " 'f76314fe-fa03-4b11-9493-65a6b04f1cb9',\n",
       " 'aea6d280-0317-4b9e-a75d-80eba43b0fb8',\n",
       " 'e7b92611-ec6c-4064-a70b-93c6d3ae1659',\n",
       " '1c0976ca-ccb8-457e-a7b3-555f893ac40c',\n",
       " 'cbade875-b73d-4004-a48e-b8500e105aac',\n",
       " '9ad96839-0385-4091-8712-ac0448a0d459',\n",
       " 'd970d18d-f36b-492a-85b5-6eac44d4eb87',\n",
       " 'a905a984-e7c7-4e98-9660-c6f351d41314',\n",
       " '75695326-320c-4630-b54a-50a4c0ee00f3',\n",
       " '34df15e0-52c5-4413-a793-7234c5451ce8',\n",
       " '7088d7f5-50fb-4cf9-88e4-dd49a098a56e',\n",
       " '8d86caa0-a6b8-4f45-9ca7-e01d380f38e1',\n",
       " '749a9276-28fc-4f0d-908e-2e973e370f80',\n",
       " 'd376da3e-14a2-4db5-842f-56e86672ebb9',\n",
       " '318d5b0d-198b-4bb6-821d-713d8a90582b',\n",
       " 'f459d95a-3e36-48c6-b6e4-2b125151e720',\n",
       " 'c2f7200d-1c4f-4d6c-85d6-a32fad92f791',\n",
       " '59335942-523a-45ea-8358-4a1c81b2a645',\n",
       " '0cc7da05-b391-447b-b055-a461e26bae88',\n",
       " '3dd79614-3fdf-4682-a38d-232634e1511a',\n",
       " '3e2400a8-c756-4841-a452-ac0d69fdfa52',\n",
       " '1b768d64-5498-4671-9328-c63032dcb9fb',\n",
       " 'b2dac6f4-1b15-467e-bda8-de511b2afe43',\n",
       " 'aa4e8b08-945f-461f-9ca2-b88df165390b',\n",
       " 'e8eae9ac-6968-4e64-a557-a871a0a7fc95',\n",
       " 'eade7064-b962-49ab-bf07-37cbb672bb3c',\n",
       " '23034e41-f428-4a8b-aca9-d46e6d8b218a',\n",
       " '83b9c9d7-2967-4904-86f0-55096b948241',\n",
       " '94732a99-8d90-4d07-a8be-2a656470bf0b',\n",
       " 'f3527bb5-e9ed-4a41-8f59-df1c46eb65cd',\n",
       " 'd0787a6d-9e7b-45bb-924a-4d5e836ec046',\n",
       " 'a8a6fdfc-52d0-41ad-ae75-6bf5be7aa500',\n",
       " '9fd7c137-46b9-4921-b701-ce7cfec254c9',\n",
       " '271e2034-7a22-44bd-b61e-97b45227f734',\n",
       " 'f60c816e-72ad-4bc7-ae12-5619f1ad5b2e',\n",
       " '23993b87-eb8f-4aed-b6ce-c3c1594305b8',\n",
       " 'eddd6292-fa9d-405d-9e3c-5459594b7115',\n",
       " 'deba6069-1997-4334-9de3-a6a1f77465e4',\n",
       " '3bc1970f-02d5-47cf-85e6-5537f46bd587',\n",
       " 'bcd527e7-847f-49a7-a04e-474c213cd667',\n",
       " '63acc553-7883-4f90-83b0-0a5eb87d55f1',\n",
       " 'a719b309-8cf7-44e7-ac0a-7c9074a50ba2',\n",
       " '187e5701-a104-411c-9719-f47bf2947cc3',\n",
       " '70027911-0749-4e92-b255-86246a0954cd',\n",
       " '22975a1d-f998-4fca-b2c0-a11dcdb375aa',\n",
       " '32f0bee0-70fa-48af-8801-73ad7f79217b',\n",
       " 'c95d1a5f-0535-4e88-8a65-7847e04001f3',\n",
       " 'c20434c4-3333-4320-a516-9b62219375ef',\n",
       " '2e3fb9b5-33af-45a9-a749-032d2ed9ebc0',\n",
       " '7e4fdca2-463f-443a-a855-8cf3ab4c0496',\n",
       " 'a9b59eea-61a7-4b6e-bc5d-d2078c3f4cbb',\n",
       " 'f046f14b-15d1-4445-9bcd-1264d50cae4c',\n",
       " '827d84d3-8894-4bb1-a023-5ba5386fa011',\n",
       " 'beb537e9-b6f4-437a-aaf2-30ac29d85c90',\n",
       " '5a2dda8c-7a6a-472a-b4c8-18da4bbc300d',\n",
       " 'dd8b0fab-4065-449d-a2cb-3476e15b48a3',\n",
       " '35959ff9-9951-4285-8c6a-e8fe6cac5aeb',\n",
       " 'fefbc1af-6a3b-4c55-995a-ff4cca4e49d9',\n",
       " '6bca9400-2fda-4775-9f9d-109b689e6bb6',\n",
       " '0966e266-1874-4cfe-bd08-ae8e2855c5e1',\n",
       " '27bb5847-9d07-4b6c-a20c-22877035d2c7',\n",
       " 'fcef9f3d-d93d-4656-8f3b-8b8d59850fbf',\n",
       " 'ef2214eb-3044-4f6d-a9ca-e771e20c5efb',\n",
       " '2e11e785-a0f9-4bf7-9040-5c4705eed201',\n",
       " '9cfaca36-e299-4cfa-9c7f-1d4518729def',\n",
       " 'c1701ba6-458d-4b79-9d5e-7a5013e9179f',\n",
       " '5088f03b-d1e5-47d3-9862-916ce9573948',\n",
       " '9c24a45b-45c6-492a-bb8d-82f90df9270d',\n",
       " '70ea7b4e-d0cf-49af-bf05-b979eb84c55f',\n",
       " '1be40b33-2fe3-40b0-a1c4-045e66433df1',\n",
       " '97b7ca20-b5f4-40e3-953b-220ef1f14680',\n",
       " '5d9e3d99-627c-4a39-b770-f2265a3e53ec',\n",
       " '5f560a74-9726-44de-bf9b-b9f679033282',\n",
       " 'a5a27409-4464-4e05-a503-f37d70661ab2',\n",
       " 'afbb6905-0f3e-484d-b292-fc6802d4573a',\n",
       " 'e4c6a5b6-d4e9-411d-9520-074ca06de4f2',\n",
       " 'dfc7721e-145d-40f1-903d-2f36ff83b487',\n",
       " '4d1fcfb3-59f6-4dd9-98ba-d5b6d6de0d98',\n",
       " '8b67a09e-983b-4ebe-9bdf-28f3c45bf800',\n",
       " '9c960bd9-4a59-45c8-9c3e-12a40d4b1a38',\n",
       " '94158a46-22fa-4bd5-9bfc-b55a9bd5f6db',\n",
       " 'c45c6c4d-33d1-4c14-9e56-4bfa85d1ff2f',\n",
       " 'ad43f848-13db-4223-9fd9-ebd107201538',\n",
       " 'fd6e071f-4914-482d-867e-69764ad4eebb',\n",
       " '3ad3c3c3-6f6f-4589-a5a5-ae1828a429ed',\n",
       " 'fd3ff136-1f7c-4df2-abb9-ff84423a8537',\n",
       " '412569c4-c5e7-41dc-a3e0-bc5dac17b41b',\n",
       " '233f159a-69b3-4b69-afdd-071cd49a5628',\n",
       " '1edab678-c1e4-4a39-aa94-6a1eaebe99b7',\n",
       " '1af31b62-3b0c-405b-9328-44ceb46f1f0a',\n",
       " 'a3ebd465-583e-4d65-83f5-a4a03c7ebacf',\n",
       " 'cc4e7195-67fe-46ad-ba14-14b3ce93a4d4',\n",
       " '0740e59d-87e1-4d71-aee3-0dbe9e2b6032',\n",
       " '7bce13ea-822d-4044-8f12-52f07289c47b',\n",
       " '8b2f2661-2b7c-4e3e-aae5-08ebbfc9b110',\n",
       " '7b4996b3-23b4-472b-9abd-935aeeac2bca',\n",
       " '40c07d81-0822-4119-9667-3e54f28436f4',\n",
       " '8c8476e4-fb10-4409-b432-ce1906801aa9',\n",
       " '588925a8-b568-4f00-b6bb-b350740ade38',\n",
       " '48ba0953-9a37-4f6b-b6b8-e3a759e4e420',\n",
       " 'bcc29d66-d631-43dc-9a14-b35f18375294',\n",
       " '45ee6d3a-cec2-43d8-a1a1-00f82e9d49d7',\n",
       " '07257205-d9b5-4f77-aaab-5c40b54bf2d5',\n",
       " 'da929409-b517-45be-abd2-b04979a2bf6b',\n",
       " '799728aa-e89d-466e-b87c-caceee50accb',\n",
       " '091ae1fc-ba91-46f7-a673-821fef681e63',\n",
       " '52c7d227-b557-4a9f-9962-dc1edd5d6d2f',\n",
       " '727275b2-db89-4cb1-b3e3-ac52b5792d34',\n",
       " '21fc3618-78a7-453c-8da2-d982330e7da5',\n",
       " '2e2e098e-7d1d-4b8e-8e01-174128217589',\n",
       " 'bc991e44-9739-4ee1-8313-9defd4b57b1c',\n",
       " '2ef21eb5-2bc5-46a9-9574-93144e0499bf',\n",
       " 'eece0438-a079-48ff-bc8d-1657902dbe3a',\n",
       " '81431abb-5c58-4361-835b-a71b42ab97c5',\n",
       " 'a58435d6-3cee-4fae-af84-2d3a675b96a5',\n",
       " 'c4e33ab6-cafa-48de-8d7e-08a5afb059f9',\n",
       " '9ed10730-831c-4602-87e4-13798ef366c4',\n",
       " '2ca18ca7-4565-4be5-a5c2-a7de0f603888',\n",
       " '17eda4f7-8ee2-4c39-a49f-45bcbafee4da',\n",
       " '41a103b8-9261-488b-b3d8-0d0366c45ce1',\n",
       " '64a4725e-5f0b-4498-84cd-8a63303b954b',\n",
       " '91381765-df37-40ee-b550-dc07fc863940',\n",
       " '9105815c-74c8-4b7c-9ded-f7aa2b7c5fc0',\n",
       " '5b1d8050-7cbb-4026-8d3a-04b08ddb9f1f',\n",
       " '8a9c09ff-50d0-491b-b03b-4f19fece51f2',\n",
       " 'f548bdb6-1a49-4028-b900-1b132f6bb932',\n",
       " 'c25a2755-70ab-407f-b39e-b1e8ea3cb92a',\n",
       " 'dd1c7dc5-4124-4250-b3dc-0884e13d9885',\n",
       " 'fc40857f-618b-4b02-9661-cda5688c90b6',\n",
       " 'fe93c67f-6f73-4be4-9c02-297e9d78d665',\n",
       " '14535785-dee1-4143-8464-8e3de4a442d5',\n",
       " 'ac9c3223-a33c-45c5-b670-6f3f44fba419',\n",
       " '840cbd84-4df7-409f-be09-bb454e1959b2',\n",
       " 'c833e1e1-985d-4c3f-9d28-7c750a300b10',\n",
       " '692f643c-6e63-4350-9abf-e366de97ddfd',\n",
       " '2633732d-19a8-4bd9-8579-f53ad8bacac9',\n",
       " '66901a58-1ba8-4ded-b79d-921ccd73bebd',\n",
       " '3149d2cd-af0c-4595-90b9-e0502d884636',\n",
       " 'c7fc0eee-14d0-43b8-8131-0ad99bb5fcc2',\n",
       " '035357e3-52f6-4934-abf3-9ef1284d88a1',\n",
       " 'f32d852d-3b29-4694-afb8-8eb736934ce3',\n",
       " 'd64cefb4-24e5-4a36-9d41-bb9a8871b432',\n",
       " '6a011a68-b537-4a85-ad68-3291166fa05d',\n",
       " '79a3690e-b441-4844-91ff-548acb02b814',\n",
       " 'a4df442e-49ba-44bc-b411-586d156a1a81',\n",
       " '7c4cedce-e217-4c3b-bb3c-05b8ebb5946f',\n",
       " 'f16fa655-a6c3-40d0-8d46-68a972bfebda',\n",
       " '2443df62-9fbd-4440-a018-0aa3e456084b',\n",
       " 'c82cbd35-4617-4a2c-a9fe-116c199b7b65',\n",
       " 'd2b5b400-2950-41e4-966f-947f879c753d',\n",
       " '6536ce6e-8a5a-4fc7-a9ae-877071353284',\n",
       " 'ecb835d8-6462-43cc-bb0a-bc408104732f',\n",
       " 'b6b44a3f-66ee-4853-bd45-48df37be8a2c',\n",
       " '07d21f3a-d8bb-4737-b4e7-d539195132d3',\n",
       " '8c350b17-384c-475c-b79d-0496549d27c7',\n",
       " '1840f113-3698-4f83-a6ff-addc5200028a',\n",
       " '1b5291ab-baa1-4444-b5d7-02159fc3b828',\n",
       " '9d8cb803-5b86-4cf2-8777-2aad57066732',\n",
       " '98a5b7a2-58b1-469c-95b5-6cd973774a32',\n",
       " '3690ad28-785f-40c6-9c8d-abca772a90ce',\n",
       " '397eb72f-3c44-45c4-b38a-1191bb86bcbd',\n",
       " 'b35ab801-407e-41ff-8151-03be7fa6125b',\n",
       " '9d35a2f4-1283-4609-87c4-843361a25fe3',\n",
       " '1ebf9645-50d3-48e0-bdff-fe0497f11e21',\n",
       " 'cef56047-98ce-4215-8c6f-188e3e6fe248',\n",
       " '6b4adaec-cbcd-4a03-92ef-371eb96a6f1b',\n",
       " '3f80f89b-01b5-4abc-926d-57bb2015a540',\n",
       " '6bd1ae32-61d3-4b22-a400-1a5a83dba1eb',\n",
       " '0a5e3050-040d-45b8-833e-937ab2ce390e',\n",
       " '3f3fa639-608a-43a6-8e0b-ebec55fd7063',\n",
       " '51d736d5-a142-4fb8-9bba-446d0e202a8f',\n",
       " '511cda1a-3ad5-4756-8ad2-940320685f9b',\n",
       " '64bd0278-1b86-418b-b0e4-d16a6ad533b2',\n",
       " '6241a887-d315-4c92-896d-f7cfe8049153',\n",
       " '2d3ab68d-7e71-4057-a442-422d2ffdccc8',\n",
       " '0f123fc9-dad1-4336-9e1a-d07a54ea86f4',\n",
       " 'a0bf8145-4263-4021-8654-a46f011450f5',\n",
       " '30c4d292-050b-4af5-a73b-462ec50d7c26',\n",
       " '067c3368-849b-4c04-b244-d4933d683b98',\n",
       " '6dd070fd-4f44-49d0-982a-1cd42a5bb834',\n",
       " 'dae1615b-8743-4071-9016-9811b5a218ca',\n",
       " '6945e522-b27b-485b-a09b-e366a043713f',\n",
       " 'e93acc52-8d6d-4cab-93bb-af62068b51bb',\n",
       " 'a5195801-83ee-4698-91fd-5b084d0904b4',\n",
       " '74681db0-e659-48ef-b47a-312a7380ea3a',\n",
       " 'fabbc4b9-e0a7-4f91-a338-76080713bba5',\n",
       " '1ff1ae8e-92e8-4191-8e3e-9b2fa13aefc2',\n",
       " '33ff48c3-91b1-40a0-be3f-042cf8814de4',\n",
       " 'da6f232e-b1fc-457d-9995-fad711cf628c',\n",
       " '793b18d0-22f3-4703-8bea-06766ed63c8a',\n",
       " '3c1deb2a-a869-41a0-ad46-ffe2da4bb4dc',\n",
       " 'af798a32-9fa8-4e6f-8a37-b7739c557f0f',\n",
       " '50e58796-de1d-408d-ab06-d1d1bf4c78ed',\n",
       " 'df09c345-4a60-4a34-97ad-28e284c67eea',\n",
       " 'c4ae9cee-14f0-4f1c-8053-409e1f1ce7b5',\n",
       " 'ad049f2a-aa5a-4643-b84c-ee40c4fa0327',\n",
       " '5aa92709-bfad-4cca-aec9-808f25294b11',\n",
       " '91ba4f11-60be-44f9-ac35-dc25928073b2',\n",
       " '2110b56b-4c39-49a0-b642-4dab1c3ed03a',\n",
       " 'c153c7f7-fc8e-4a5b-a55b-71222b7fea23',\n",
       " 'd528bb41-86e3-41d4-b1d6-fb013826a4d2',\n",
       " '3a4164e9-09ef-4e98-bf12-328050401549',\n",
       " '61b93b45-f009-42cd-bc60-096f55efdcc1',\n",
       " '36444612-d647-4f62-a623-a9e4f50189b3',\n",
       " '2ab22b59-0fbd-48e9-910f-17bce3fc3812',\n",
       " '99a66cb4-1d70-42c8-8413-32c39d1a37d7',\n",
       " '1a9451eb-94e2-4a8f-9860-5d05019bf59a',\n",
       " '6a7fb3ba-775d-4f5f-beb5-e44687b25f0c',\n",
       " '4c707b40-f20f-442d-af71-d6540ce3bc23',\n",
       " 'c7790ca9-7d28-4fbf-b128-56573112c9c4',\n",
       " '6e632544-1021-462b-9eeb-1fe68995ba6c',\n",
       " '95b6e7a8-2ce8-4d37-a470-057aa8c3c05f',\n",
       " '8258835a-26cc-4199-9126-a3385d8aa2f3',\n",
       " 'e6e75302-8764-4b29-ad1d-8bbb8b11f248',\n",
       " '7d4daa3d-d602-43d4-85c8-1fd6bf1499de',\n",
       " '19d1fbc3-b471-4c4b-8683-4a897f79d857',\n",
       " '620b806e-16c8-41a5-a73c-608bb7db3fd1',\n",
       " '18347b44-0b5f-46b7-a3d4-549741a0294a',\n",
       " '5792c338-6981-41bb-ad28-37f8d9d3730a',\n",
       " '935f1fae-1b0f-4c46-b2c5-33374e74ed65',\n",
       " 'b7e2552b-12f2-403b-b2e7-3d89d708d224',\n",
       " 'a6b0bebf-107f-43f4-9c22-051e6c131a24',\n",
       " 'b84dea6f-c870-43ed-a613-0e8ad497288d',\n",
       " '3dee4126-c80e-4779-8960-e234cc58faf0',\n",
       " 'a34240ac-6d0f-440f-8048-d160f78116da',\n",
       " 'e8b04ccd-e1c6-42a9-8edc-918d0351c4a1',\n",
       " '0cda2a97-f8e8-499c-8129-4bfc3780eacf',\n",
       " '458e0629-249d-4283-a07e-15a079b13f9c',\n",
       " '5bf3dbad-bf4b-4730-a1e5-ac5f526e4c2d',\n",
       " 'efccfed6-5ded-4dc7-a201-72fb99b79838',\n",
       " 'e735bc16-6725-4f00-96ea-54f7510e1137',\n",
       " '0224c335-ff22-422e-88d8-e03e0b19a339',\n",
       " 'e6109a08-bd27-426a-89c4-8d2a69fd7427',\n",
       " 'b533441f-5b03-472e-a385-451df873f338',\n",
       " '403e0d42-8c00-46f8-be34-f1df5d6d686f',\n",
       " '6b9e3375-e75f-46e1-b7eb-0600ab3e0b84',\n",
       " '2e02e8c9-4a3a-4ac7-b8dd-13bc883d3687',\n",
       " '4333d3e4-db4a-42ba-9f7b-b3f20db187af',\n",
       " 'b9103761-8147-4919-8b88-177259c90640',\n",
       " '45ec9970-5e53-47ae-ada4-73b31c7095db',\n",
       " '1951c834-1bd9-430a-95c6-f70c8ee813f1',\n",
       " '6d7d9d28-9862-46cd-a8ef-36295e02c052',\n",
       " 'b8f546b1-a369-47a7-bfc3-0c4601283995',\n",
       " '98abb11f-34ae-4535-9e88-0f773fc08960',\n",
       " '1d24d497-9c2f-462f-a2a5-c0531006bd5c',\n",
       " '8e4d7b0c-1f61-4fc8-a38d-4da6812d6c02',\n",
       " 'ebad6f97-80f2-4192-baad-404481d3c901',\n",
       " 'eb606bd9-c004-4d9f-8142-a22608c49e3d',\n",
       " 'e2621d93-899b-4dfb-82c5-eb7cba32279e',\n",
       " '41feaf40-d14e-46d5-b124-e6426cb22a94',\n",
       " 'ed5bddab-6f5c-477a-aaac-bd4ec6e525f1',\n",
       " 'd0d729c4-7555-460a-945d-9f0023707619',\n",
       " '1f2d3930-c7c9-46ec-86c6-d8971d429641',\n",
       " '288a161a-93bf-4f18-9731-b5ea8d55cdc2',\n",
       " '5b75c7ec-b85c-419a-9aea-53be80474d47',\n",
       " '1e87b8fc-0897-40b7-bfe6-d6f2df31bfd6',\n",
       " '8de8ff78-a0a6-42f3-94e2-ee71609bf200',\n",
       " '32674a4a-b8c8-4976-bd68-8c28ee0c16d3',\n",
       " '990dfaae-fee0-49b4-9b4e-0aed2bad48aa',\n",
       " 'db2a9d20-9a2a-4311-9b41-3e6aae809337',\n",
       " 'a1e4c74c-c760-4af8-a5e8-cc552dc083cd',\n",
       " '37bda114-e5cf-4176-b5a2-79c9b84d7107',\n",
       " 'eb0d2935-f291-4ad2-9b61-64f76e821db2',\n",
       " 'be619ebc-b87c-407a-8572-7a36cd717073',\n",
       " '6e22ebea-d152-4c0c-8f9b-9e6de67bcdf1',\n",
       " 'f6f7d936-1d69-49b3-a62b-521ea9a64258',\n",
       " '83101449-335e-46ee-b602-0c9b9483da2a',\n",
       " 'c4dbcaef-8ec1-49af-85ba-48d3180a812c',\n",
       " '317d5b9a-8019-4fe8-b1e0-501c017a3835',\n",
       " 'b88eaeca-ef3a-433c-9532-5359837a1ffe',\n",
       " 'd62b2654-4aba-4105-9516-9b7ed9971276',\n",
       " 'f91fa18e-be22-4b73-bb50-433af2c5b5f9',\n",
       " 'de34226c-6fe4-480b-b5c5-1c572121fcc8',\n",
       " '3c3f38a0-a7bf-4beb-af8e-fbbe9c807315',\n",
       " '6c093d09-b2cb-4756-aba5-c35f9128faec',\n",
       " '9627a47d-5e48-48fb-8c9c-c00dd6099f21',\n",
       " 'fd1516b6-6925-4c2e-b509-d86e3415389f',\n",
       " 'b1ac7457-61bd-489b-bd24-58c8d461a109',\n",
       " '61040d8e-9932-4120-b641-f981720c6b35',\n",
       " 'fd08b905-36bd-4253-b769-30eca23e41f6',\n",
       " '03e8575c-7484-40ef-9a97-6eaadbc69265',\n",
       " '1f148921-181a-42aa-b805-5c349d273a85',\n",
       " '73906a2a-baaf-4d89-b373-561e22bf3eb1',\n",
       " '564228de-0d2a-4d66-a2a1-2fc7d33cd6f0',\n",
       " 'adb63ef4-335a-4e70-8975-4deb6808a1a9',\n",
       " 'fe4a4d1e-2493-4060-86ba-831a2648302e',\n",
       " '8b70130b-4154-4cd0-a712-8dac9a004504',\n",
       " 'f843562b-dc1e-4467-8153-73bef475576b',\n",
       " '0153038e-d859-478d-a11c-57700a39baeb',\n",
       " 'd6c39aef-5ed7-4014-ac6d-22f1269bf8a1',\n",
       " '0291ff9e-f316-4fe1-96f8-21b7a49db9a8',\n",
       " '42e4d563-4928-476f-824d-9bbd9a360289',\n",
       " '21170a23-605b-42de-a57e-f324112a84b7',\n",
       " '07955a9f-1ad1-45ce-ad96-7cb86221e0e2',\n",
       " 'ca4de866-714a-4be4-90cb-f3790721d57e',\n",
       " '68b3d252-cc77-4c01-8c20-2d81bcd7c28d',\n",
       " '730dc5bb-ed8a-4aaa-816c-bad4963787ad',\n",
       " '7eba8493-91b1-4535-bbca-351a6f10d49f',\n",
       " '9fcdc06c-4a57-4f54-8c73-7909b9c0fea0',\n",
       " '538c0ebe-6671-486e-9e02-21addc8ac1a0',\n",
       " 'ba6a6bcf-6f82-49df-8438-e043a911ba5a',\n",
       " '0123f014-2a5e-4a8f-b07c-4f0cf97a739b',\n",
       " '6e6333ad-0231-4790-8873-20f596366086',\n",
       " 'b62a8dd0-39f7-47a1-8fcf-7c0e11316224',\n",
       " 'a893904a-10b1-4977-9e49-4e1063e3c50f',\n",
       " 'ad747068-fb49-41d1-ab74-a4e5b15c6a7f',\n",
       " 'cd3e52f6-c411-4f30-bc8d-5cc848290805',\n",
       " 'fb1bd88b-3839-4627-8b87-0bdeff6b5058',\n",
       " '84a88f4e-73df-4471-a70d-df1517c7be63',\n",
       " 'dfe2c96b-0d42-4c9f-8403-f81d1119b678',\n",
       " 'af18d580-107f-4b60-adf3-7785606fe672',\n",
       " 'fb222b5f-07c6-4ea8-8b8b-f8b3a1928ddd',\n",
       " '6f9ffc28-b4a9-47d3-91e5-9a2c27c69e85',\n",
       " '9aa3cca9-5983-4a28-8a6d-4920d4a6d4ff',\n",
       " '09360ae6-c409-473d-97ac-93d2ce320e1e',\n",
       " '79e654e0-b435-42f4-8a35-fa21c9d69d75',\n",
       " 'b217fadd-19af-4050-9102-91b114ddbbd5',\n",
       " '7f3be1d1-162b-43a8-8a86-ef66335a488b',\n",
       " 'f866309d-504d-4145-b8aa-71754a51625e',\n",
       " '2df7efef-1e29-4648-b138-a86b927bea17',\n",
       " 'c563888b-17c3-4ec0-a14a-dd7708bfb3d1',\n",
       " 'b8188645-f93b-4345-9a8f-5007ae570ee2',\n",
       " '5f1d8029-8a54-4f12-8f61-f6a440d640b4',\n",
       " '4e9448e2-ed56-4c63-b463-59c525cb6d3f',\n",
       " 'c4af48f2-cb40-4888-ad98-8d8cd02068a1',\n",
       " '574596c9-1c7b-4950-b5bb-3e751a763a67',\n",
       " '39e2e524-1b7d-41f7-acfe-b8ebb4408599',\n",
       " '34a1484c-b4eb-4551-aa11-a86bdc5d5a00',\n",
       " 'e7708659-a318-4729-b163-67ecbcb94ae2',\n",
       " '0c60be28-2cca-4181-a379-77488b978b7f',\n",
       " 'c274ea98-82df-4b51-a397-14ed542dc838',\n",
       " '168b5544-bc56-4bf1-96f9-ee054c9a5f08',\n",
       " 'e33a69ac-4779-4f52-a504-11b69d7a2cc6',\n",
       " '89727624-6040-4cdb-96c0-4e7293bddf3e',\n",
       " '3992dbf4-f185-4e10-a49e-c9381228e492',\n",
       " '5f94dd38-bf53-4e11-aacb-bbcce7eb7c96',\n",
       " 'ccf5a9c9-0a42-40cb-9521-07676d0cb08c',\n",
       " 'f4b2faed-5407-4992-a0ec-c8a7923c5426',\n",
       " '4f97f848-f443-410a-ae82-3f664e2a91f7',\n",
       " '4b706fae-97e7-4de1-b952-23cd9b600a48',\n",
       " '5a868b88-1c95-4fe0-9dfb-bde4fb994f03',\n",
       " '42139c7e-2cf7-4c8b-9bee-b952d1d78b51',\n",
       " 'ae6ce650-8101-433c-a8c5-5de6401f7974',\n",
       " '39dd307a-8b03-4649-99e4-9e2eae23b02a',\n",
       " '29a2d7fb-40a9-4a35-b09b-e4fa9dac4b91',\n",
       " '2464f5e8-3948-4450-962b-77af47be67b3',\n",
       " 'b92e2439-328c-41b7-8257-c2ce797b7356',\n",
       " '55bf31dc-7ada-4626-abf1-1a28db34a289',\n",
       " 'b7738402-5ec6-4ef9-8479-e6361a06f90a',\n",
       " '87fd4a3e-ebf0-4763-b3d7-55ccc32b5695',\n",
       " '148fd861-cfaa-43ce-9261-43a8e4e4a479',\n",
       " '274b3cc2-3042-4e22-ac18-27c9985a4e41',\n",
       " 'a70d64ce-5759-423a-a67e-cf98bce18ea9',\n",
       " '4b766b54-2852-4b8b-b4d2-4cc4d9d47c86',\n",
       " '3c4a8289-f5a0-4b77-809f-0b5f6620f610',\n",
       " 'bd892799-8c59-40c7-95d1-23615c6e9fc8',\n",
       " '0058d424-7ec3-42ab-a8e7-9db6287d4f20',\n",
       " '657b051b-7589-448d-8ed4-8cc3f74dfd6b',\n",
       " '93335be1-64a2-4a8c-a924-af00a6a389cf',\n",
       " '228de133-c366-4a7f-a483-6958465f3e2f',\n",
       " 'dcc00903-3bce-4f41-9278-3ecd90fa790f',\n",
       " 'b96f31f6-b1b6-4842-9ea5-718516edf5ba',\n",
       " 'c59f9064-cd40-4a41-bda5-12ca56e5c872',\n",
       " 'a283cc26-0c6e-411e-be5d-0e8e9004f27b',\n",
       " '0762f652-cfd6-40ca-b374-f4ccc6fd5beb',\n",
       " 'ead5ca2b-62e8-4b80-8046-cbfb236c9f1f',\n",
       " '5ccba4d8-b8c0-45ca-aaeb-3f8afe404dfd',\n",
       " 'd0d1b8fc-feb5-4605-8f99-5ae94fc6eb07',\n",
       " 'fa8e6756-18d8-4f13-9fc0-16f1e05ecd3d',\n",
       " '65224cf4-900f-4e31-bd8e-3697046c5528',\n",
       " '8cfc7bf4-e859-4a4b-a516-be8960020b39',\n",
       " '64f8eba6-e83d-4f9c-8660-96d2153f31d3',\n",
       " 'c7eed15d-af6e-459d-afa8-e246da5ebfda',\n",
       " 'ea5ccfed-ea83-4f2b-999e-a5f03cc633bd',\n",
       " 'f999b422-3a7e-4001-bbc8-cf8af006739f',\n",
       " '80ec96aa-23bb-4c8f-bc5e-22e6e92a7d85',\n",
       " '1e60f4ff-8c65-40db-a05a-cd5cb6a31e5e',\n",
       " 'ce79cf96-8d27-47c4-b385-8cd3ef1e42bb']"
      ]
     },
     "execution_count": 54,
     "metadata": {},
     "output_type": "execute_result"
    }
   ],
   "source": [
    " vector_store.add_documents(documents=docs)"
   ]
  },
  {
   "cell_type": "code",
   "execution_count": 78,
   "id": "f6792c39-99f6-4746-8317-dc1abd1526b3",
   "metadata": {},
   "outputs": [],
   "source": [
    "db_retriever = vector_store.as_retriever(\n",
    "    search_type=\"similarity\",\n",
    "    search_kwargs={'k': 15, 'fetch_k': 100}\n",
    ")"
   ]
  },
  {
   "cell_type": "code",
   "execution_count": 79,
   "id": "a79d6256-1ed2-4284-90c1-c4d330440500",
   "metadata": {},
   "outputs": [
    {
     "data": {
      "text/plain": [
       "StringPromptValue(text='What are the potential mechanisms that cause an interaction between Cranberry products and Warfarin that may cause INR Increase?')"
      ]
     },
     "execution_count": 79,
     "metadata": {},
     "output_type": "execute_result"
    }
   ],
   "source": [
    "# queries[0]"
   ]
  },
  {
   "cell_type": "code",
   "execution_count": 81,
   "id": "3baf8046-49f8-4f1a-8c3a-f5c9119488dc",
   "metadata": {},
   "outputs": [],
   "source": [
    "# db_retriever.invoke(queries[0].text)"
   ]
  },
  {
   "cell_type": "code",
   "execution_count": null,
   "id": "7b848c9a-0dbe-4c88-886a-6d12697cd75e",
   "metadata": {},
   "outputs": [],
   "source": [
    "# for doc in results:\n",
    "#     print(f\"* {doc.page_content} [{doc.metadata}]\")"
   ]
  },
  {
   "cell_type": "code",
   "execution_count": 55,
   "id": "00d1495f-74f7-4a00-a3a2-952c9728fa49",
   "metadata": {},
   "outputs": [],
   "source": [
    "from langchain.retrievers.multi_query import MultiQueryRetriever\n",
    "from langchain_openai import ChatOpenAI"
   ]
  },
  {
   "cell_type": "code",
   "execution_count": 56,
   "id": "c0f793fd-fecc-4234-a89e-381072c097ad",
   "metadata": {},
   "outputs": [],
   "source": [
    "llm = ChatOpenAI(model=\"gpt-4o-mini\",temperature=1)\n",
    "retriever_from_llm = MultiQueryRetriever.from_llm(\n",
    "    retriever=vector_store.as_retriever(), llm=llm\n",
    ")"
   ]
  },
  {
   "cell_type": "code",
   "execution_count": 57,
   "id": "177762bb-6b75-4e82-aad2-6bb044ffa80c",
   "metadata": {},
   "outputs": [
    {
     "data": {
      "text/plain": [
       "StringPromptValue(text='What are the potential mechanisms that cause an interaction between Cranberry products and Warfarin that may cause INR Increase?')"
      ]
     },
     "execution_count": 57,
     "metadata": {},
     "output_type": "execute_result"
    }
   ],
   "source": [
    "prompt + queries[0]"
   ]
  },
  {
   "cell_type": "code",
   "execution_count": 83,
   "id": "34d6e763-db28-46a0-a44c-0e830a3b508e",
   "metadata": {},
   "outputs": [
    {
     "data": {
      "text/plain": [
       "4"
      ]
     },
     "execution_count": 83,
     "metadata": {},
     "output_type": "execute_result"
    }
   ],
   "source": [
    "unique_docs = retriever_from_llm.invoke(prompt + queries[0].text)\n",
    "len(unique_docs)"
   ]
  },
  {
   "cell_type": "code",
   "execution_count": 85,
   "id": "eba56620-0f2a-47a9-8c74-d851a8115ad7",
   "metadata": {},
   "outputs": [
    {
     "name": "stdout",
     "output_type": "stream",
     "text": [
      "Document 1:\n",
      "\n",
      "Cranberry Unnamed: 1 Unnamed: 2 Vaccinium macrocarpon Aiton (Ericaceae) Synonym(s) and related species Large cranberry European cranberry Mossberry Monograph Interpretation Citation Ciclosporin Occasional consumption of cranberry juice does not appear to affect the bioavailibility of ciclosporin. Regular daily consumption has not been studied. Grenier J, Fradette C, Morelli G, Merritt GJ, Vranderick M, Ducharme MP. Pomelo juice, but not cranberry juice, affects the pharmacokinetics of cyclosporine in humans. Clin Pharmacol Ther (2006) 79, 255–62. Flurbiprofen Limited evidence suggests that cranberry juice does not appear to affect the pharmacokinetics of flurbiprofen. Greenblatt DJ, von Moltke LL, Perloff ES, Luo Y, Harmatz JS, Zinny MA. Interaction of flurbiprofen with cranberry juice, grape juice, tea, and fluconazole: in vitro and clinical studies. Clin Pharmacol Ther (2006) 79, 125–33. Food No interactions found. Note that cranberry juice is widely used in food and beverages. Herbal medicines No interactions found. Note that cranberry juice is widely used in food and beverages. Midazolam Limited evidence suggests that cranberry juice does not appear to affect the pharmacokinetics of midazolam. Lilja JJ, Backman JT, Neuvonen PJ. Effects of daily ingestion of cranberry juice on the pharmacokinetics of warfarin, tizanidine, and midazolam – probes of CYP2C9, CYP1A2, and CYP3A4. Clin Pharmacol Ther (2007) 81, 833–9. Nifedipine The interaction between cranberry juice and nifedipine is based on experimental evidence only. Uesawa Y, Mohri K. Effects of cranberry juice on nifedipine pharmacokinetics in rats. J Pharm Pharmacol (2006) 58, 1067–72. Tizanidine Limited evidence suggests that cranberry juice does not appear to affect the pharmacokinetics of tizanidine. Lilja JJ, Backman JT, Neuvonen PJ. Effects of daily ingestion of cranberry juice on the pharmacokinetics of warfarin, tizanidine, and midazolam – probes of CYP2C9, CYP1A2, and CYP3A4. Clin Pharmacol Ther (2007) 81, 833–9. Warfarin and related drugs A number of case reports suggest that cranberry juice can increase the INR of patients taking warfarin, and one patient has died as a result of this interaction. Other patients have developed unstable INRs or, in one isolated case, a reduced INR. However, in four controlled studies, cranberry juice did not alter the anticoagulant effect of warfarin, or had only very minor effects on the INR. Neither cranberry juice nor the extract altered warfarin pharmacokinetics. Committee on Safety of Medicines/Medicines and Healthcare products Regulatory Agency Possible interaction between warfarin and cranberry juice. Current Problems (2003) 29, 8. Committee on Safety of Medicines/Medicines and Healthcare products Regulatory Agency Interaction between warfarin and cranberry juice: new advice. Current Problems (2004) 30, 10. Suvarna R, Pirmohamed M, Henderson L. Possible interaction between warfarin and cranberry juice. BMJ (2003) 327, 1454. Grant P. Warfarin and cranberry juice: an interaction? J Heart Valve Dis (2004) 13, 25– 6. Walsh KM. Getting to yes. J Am Geriatr Soc (2005) 53, 1072. Rindone JP, Murphy TW. Warfarin-cranberry juice interaction resulting in profound hypoprothrombinemia and bleeding. Am J Ther (2006) 13, 283–4. Paeng CH, Sprague M, Jackevicius CA. Interaction between warfarin and cranberry juice. Clin Ther (2007) 29, 1730–5. Li Z, Seeram NP, Carpenter CL, Thames G, Minutti C, Bowerman S. Cranberry does not affect prothrombin time in male subjects on warfarin. J Am Diet Assoc (2006) 106, 2057–61. Ansell J, McDonough M, Jarmatz JS, Greenblatt DJ. A randomized, double-blind trial of the interaction between cranberry juice and warfarin. J Thromb Thrombolysis (2008) 25, 112 Lilja JJ, Backman JT, Neuvonen PJ. Effects of daily ingestion of cranberry juice on the pharmacokinetics of warfarin, tizanidine, and midazolam – probes of CYP2C9, CYP1A2, and CYP3A4. Clin Pharmacol Ther (2007) 81, 833–9. Mohammed Abdul MI, Jiang X, Williams KM, Day RO, Roufogalis BD, Liauw WS, Xu H, McLachlan AJ. Pharmacodynamic interaction of warfarin with cranberry but not with garlic in healthy subjects. Br J Pharmacol (2008) 154, 1691–1700 Greenblatt DJ, von Moltke LL, Perloff ES, Luo Y, Harmatz JS, Zinny MA. Interaction of flurbiprofen with cranberry juice, grape juice, tea, and fluconazole: in vitro and clinical studies. Clin Pharmacol Ther (2006) 79, 125–33. Isele H. Tödliche Blutung unter Warfarin plus Preiselbeersaft. Liegt’s an der Salizylsäure? MMW Fortschr Med (2004) 146, 13.\n",
      "----------------------------------------------------------------------------------------------------\n",
      "Document 2:\n",
      "\n",
      "Ginger Unnamed: 1 Unnamed: 2 Zingiber officinale Roscoe (Zingiberaceae) Synonym(s) and related species Gan Jiang Zingiber Monograph Interpretation Citation Anticoaguants Evidence from pharmacological studies suggests that ginger does not increase the anticoagulant effect of warfarin, neither does it alter coagulation or platelet aggregation on its own. However, two cases reports describe markedly raised INRs with phenprocoumon and warfarin, which were associated with eating dried ginger and drinking ginger tea. A prospective, longitudinal study also reports of an increased risk of self-reported bleeding events in patients taking warfarin and ginger. Jiang X, Williams KM, Liauw WS, Ammit AJ, Roufogalis BD, Duke CC, Day RO, LcLachlan AJ. Effect of ginkgo and ginger on the pharmacokinetics and pharmacodynamics of warfarin in healthy subjects. Br J Clin Pharmacol (2005) 59, 425-32. Kruth P, Brosi E, Fux R, Morike K, Gleiter CH. Ginger-associated overanticoagulation by phenprocoumon. Ann Pharmacother (2004) 38, 257-60. Lesho EP, Saullo L, Udvari-Nagy S. A 76-year-old woman with erratic anticoagulation. Cleve Clin J Med (2004) 71, 651-6. Shalansky S, Lynd L, Richardson K, Ingaszewski A, Kerr C. Risk of warfarin-related bleeding events and supratherapeutic international normalized ratios associated with complementary and alternative medicine: a longitudinal analysis. Pharmacotherapy (2007) 27, 1237-47. Argento A, Tiraferri E, Marzaloni M. Anticoagulanti orali e piante medicinali. Una interazione emergente. Ann Ital Med Int (2000) 15, 139-43. Braun L. Herb-drug interaction guide. Aust Fam Physician (2001) 30, 473-6. Vacs LPJ, Chyka PA. Interactions of warfarin with garlic, ginger, ginkgo, or ginseng: nature of the evidence. Ann Pharmacother (2000) 34, 1478-82. Young H-Y, Liao J-C, Chang Y-S, Luo Y-L, Lu M-C, Peng W-H. Synergistic effect of ginger and nifedipine on human platelet aggregation: a study in hypertensive patients and normal volenteers. Am J Chin Med (2006) 34, 545-51. Caffeine For mention that sho-saiko-to (of which ginger is one of 7 constituents) onoy slightly reduced the metabolism of caffeine in one study, see Bupleurum + Caffeine, page 99. Carbamazepine For mention that saiko-ka-ryukotsu-borei-to and sho-saiko-to (of which ginger is one of a number of constituents) did not affect the pharmacokinetics of carbamazepine in animal studies, see Bupleurum + Carbamazepine, page 99. Food Not interactions found. Ginger is extensively used as a food ingredient. Herbal medicines No interactions found. Isoiazid For details of an animal study to investigate a possible interaction between isoniazid and Trikatu, an Ayurvedic medicine containing ginger, black pepper and long pepper, see Pepper + Isoniazid, page 375. Nifedipine A small study found that antiplatelet effects for ginger were synergistic with those nifedipine, but any effect needs confirmation. Young H-Y, Laio J-C, Chang Y-S, Luo Y-L, Lu M-C, Peng W-H. Synergistic effect of ginger and nifedipine on human platelet aggregation: a study in hypertensive patients and normal volunteers. Am J Chin Med (2006) 34, 545-51. Vaes LPJ, Chyka PA. Interactions of warfarin with garlic, ginger, ginkgo, or ginseng: nature of the evidence. Ann Pharmacother (2000) 34, 1478-82. NSAIDs For details of an animal study to investigate a possibe interaction between diclofenac and Trikatu, an Ayurvedic medicine containing ginger, black pepper and long pepper, see Pepper + NSAIDs page 376. Ofloxacin For mention that sairei-to and sho-saiko-to (of which ginger is one of a number of constituents) do not affect the pharmacokinetics of ofloxacin, see Bupleurum + Ofloxacin, page 99. Rifampicin (Rifampin) For details of an interaction between rifampicin and Trikatu, an Ayurvedic medicine containing ginger, black pepper and long pepper, see Pepper + Rifampicin (Rifampin), page 377. Tolbutamide For conflicting evidence from animal studies that sho-saiko-to (of which ginger is one of 7 constituents) might increase or decrease the rate of absorption of tolbutamide, see Bupleurum + Tolbutamide, page 99.\n",
      "----------------------------------------------------------------------------------------------------\n",
      "Document 3:\n",
      "\n",
      "English common name of herbal substance: Cranberry\n",
      "Latin name of herbal substance: Vaccinii macrocarpi fructus\n",
      "Full Text PDF URL: https://www.ema.europa.eu/en/documents/herbal-report/draft-assessment-report-vaccinium-macrocarpon-aiton-fructus-first-version_en.pdf\n",
      "Monograph PDF URL: https://www.ema.europa.eu/en/documents/herbal-monograph/draft-european-union-herbal-monograph-vaccinium-macrocarpon-aiton-fructus-first-version_en.pdf\n",
      "Page URL: https://www.ema.europa.eu/en/medicines/herbal/vaccinii-macrocarpi-fructus\n",
      "Revision date: 2021-05-31 11:25:00\n",
      "Interactions with other medicinal products and other forms of interaction: Cranberry juice and other cranberry products may potentiate the effect of warfarin and therefore concomitant use is contraindicated (see section 4.3. ‘Contraindications’). Decreased tacrolimus serum levels have been reported from the concomitant use of cranberry juice and tacrolimus in a renal allografted patient. The concomitant use of cranberry preparations and tacrolimus is contraindicated (see section 4.3. ‘Contraindications’)\n",
      "Unnamed: 2: \n",
      "Unnamed: 3: \n",
      "date: \n",
      "url: \n",
      "Undesirable effects: Gastrointestinal disorders: nausea, vomiting, diarrhoea, constipation and dyspepsia. The frequency is not known. Skin and subcutaneous tissue disorders: urticaria and rash. The frequency is not known. If other adverse reactions not mentioned above during the use of the medicinal product, a doctor or a qualified health care practitioner should be consulted. If other adverse reactions not mentioned above  occur, a doctor or a qualified health care practitioner should be consulted.\n",
      "Overdose: No case of overdose has been reported.\n",
      "Pharmacodynamic properties: Not required as per Article 16c(1)(a)(iii) of Directive 2001/83/EC as amended.\n",
      "Pharmacokinetic properties: Not required as per Article 16c(1)(a)(iii) of Directive 2001/83/EC as amended.\n",
      "Preclinical safety data: Not required as per Article 16c(1)(a)(iii) of Directive 2001/83/EC as amended, unless necessary for the safe use of the product. Tests on reproductive toxicity, genotoxicity and carcinogenicity have not been performed.\n",
      "----------------------------------------------------------------------------------------------------\n",
      "Document 4:\n",
      "\n",
      "Flavonoids Unnamed: 1 Unnamed: 2 Bioflavonoids Synonym(s) and related species Monograph Interpretation Citation Aciclovir The interaction between quercetin and aciclovir is based on experimental evidence only. Yang ZG, Meng H, Zhang X, Li XD, Lv WL, Zhang Q. Effect of quercetin on the acyclovir intestinal absorption. Beijing Da Xue Xue Bao (2004) 36, 309–12. Antibacterials The interaction between flavonoids and antibacterials is based on experimental evidence only. Xing J, Chen X, Sun Y, Luan Y, Zhong D. Interaction of baicalin and baicalein with antibiotics in the gastrointestinal tract. J Pharm Pharmacol (2005) 57, 743–50. Wang X, Morris ME. Effects of the flavonoid chrysin on nitrofurantoin pharmacokinetics in rats: potential involvement of ABCG2. Drug Metab Dispos (2007) 35, 268– 74. Anticoagulant or Antiplatelet drugs The interaction between flavonoids and anticoagulant or antiplatelet drugs is based on a prediction only. Murphy KJ, Chronopoulos AK, Singh I, Francis MA, Moriarty H, Pike MJ, Turner AH, Mann NJ, Sinclair AJ. Dietary flavanols and procyanidin oligomers from cocoa (Theobroma cacao) inhibit platelet function. Am J Clin Nutr (2003) 77, 1466–73. Hubbard GP, Wolffram S, de Vos R, Bovy A, Gibbins JM, Lovegrove JA. Ingestion of onion soup high in quercetin inhibits platelet aggregation and essential components of the collagen-stimulated platelet activation pathway in man: a pilot study. Br J Nutr (2006) 96, 482–8. Janssen K, Mensink RP, Cox FJJ, Harryvan JL, Hovenier R, Hollman PCH, Katan MB. Effects of the flavonoids quercetin and apigenin on hemostasis in healthy volunteers: results from an in vitro and a dietary supplement study. Am J Clin Nutr (1998) 67, 255– 62. Conquer JA, Maiani G, Azzini E, Raguzzini A, Holub BJ. Supplementation with quercetin markedly increases plasma quercetin concentration without effect on selected risk factors for heart disease in healthy subjects. J Nutr (1998) 128, 593–7. Pearson DA, Paglieroni TG, Rein D, Wun T, Schramm DD, Wang JF, Holt RR, Gosselin R, Schmitz HH, Keen CL. The effects of flavanol-rich cocoa and aspirin on ex vivo platelet function. Thromb Res (2002) 106, 191–7. Nardini M, Natella F, Scaccini C. Role of dietary polyphenols in platelet aggregation. A review of the supplementation studies. Platelets (2007) 18, 224–43. Benzodiazepines In a study, tangerine juice, containing tangeretin, did not affect the pharmacokinetics of midazolam. However, grapefruit juice, which contains different flavonoids, does increase levels of some benzodiazepines. Backman JT, Mäenpää J, Belle DJ, Wrighton SA, Kivistö KT, Neuvonen PJ. Lack of correlation between in vitro and in vivo studies on the effects of tangeretin and tangerine juice on midazolam hydroxylation. Clin Pharmacol Ther (2000) 67, 382–90. Xu Z, Wang F, Tsang SY, Ho KH, Zheng H, Yuen CT, Chow CY, Xue H. Anxiolytic-like effect of baicalin and its additivity with other anxiolytics. Planta Med (2006) 72, 189– 92. Fernández SP, Wasowski C, Paladini AC, Marder M. Synergistic interaction between hesperidin, a natural flavonoid, and diazepam. Eur J Pharmacol (2005) 512, 189–98. Ha HR, Chen J, Leuenberger PM, Freiburghaus AU, Follath F. In vitro inhibition of midazolam and quinidine metabolism by flavonoids. Eur J Clin Pharmacol (1995) 48, 367–71. Caffeine Naringin does not appear to affect the pharmacokinetics of caffeine. Ballard TL, Halaweish FT, Stevermer CL, Agrawal P, Vukovich MD. Naringin does not alter caffeine pharmacokinetics, energy expenditure, or cardiovascular haemodynamics in humans following caffeine consumption. Clin Exp Pharmacol Physiol (2006) 33, 310–14. Maish WA, Hampton EM, Whitsett TL, Shepard JD, Lovallo WR. Influence of grapefruit juice on caffeine pharmacokinetics and pharmacodynamics. Pharmacotherapy (1996) 16, 1046–52. Fuhr U, Klittich K, Staib AH. Inhibitory effect of grapefruit juice and its bitter principal, naringenin, on CYP1A2 dependent metabolism of caffeine in man. Br J Clin Pharmacol (1993) 35, 431–6. Calcium-channel blockers Supplements of specific citrus bioflavonoids do not appear to affect the pharmacokinetics of calcium-channel blockers to a clinically relevant extent. Bailey DG, Arnold JMO, Munoz C, Spence JD. Grapefruit juice-felodipine interaction: mechanism, predictability, and effect of naringin. Clin Pharmacol Ther (1993) 53, 637– 42. Bailey DG, Kreeft JH, Munoz C, Freeman DJ, Bend JR. Grapefruit juice-felodipine interaction: effect of naringin and 6’,7’-dihydroxybergamottin in humans. Clin Pharmacol Ther (1998) 64, 248–56. Rashid J, McKinstry C, Renwick AG, Dirnhuber M, Waller DG, George CF. Quercetin, an in vitro inhibitor of CYP3A, does not contribute to the interaction between nifedipine and grapefruit juice. Br J Clin Pharmacol (1993) 36, 460–3. Bailey DG, Arnold JMO, Strong HA, Munoz C, Spence JD. Effect of grapefruit juice and naringin on nisoldipine pharmacokinetics. Clin Pharmacol Ther (1993) 54, 589–94. Choi J-S, Han H-K. Pharmacokinetic interaction between diltiazem and morin, a flavonoid, in rats. Pharmacol Res (2005) 52, 386–91. Choi J-S, Han H-K. Enhanced oral exposure of diltiazem by the concomitant use of naringin in rats. Int J Pharm (2005) 305, 122–8. Choi JS, Burm JP. Enhanced nimodipine bioavailability after oral administration of nimodipine with morin, a flavonoid, in rabbits. Arch Pharm Res (2006) 29, 333–8. Yeum C-H, Choi J-S. Effect of naringin pretreatment on bioavailability of verapamil in rabbits. Arch Pharm Res (2006) 29, 102–7. Kim HJ, Choi JS. Effects of naringin on the pharmacokinetics of verapamil and one of its metabolites, norverapamil, in rabbits. Biopharm Drug Dispos (2005) 26, 295–300. Choi J-S, Han H-K. The effect of quercetin on the pharmacokinetics of verapamil and its major metabolite, norverapamil, in rabbits. J Pharm Pharmacol (2004) 56, 1537– 42. Bailey DG, Dresser GK, Kreeft JH, Munoz C, Freeman DJ, Bend JR. Grapefruitfelodipine interaction: effect of unprocessed fruit and probable active ingredients. Clin Pharmacol Ther (2000) 68, 468–77. Ciclosporin A study found that quercetin increased the bioavailability of ciclosporin. Choi JS, Choi BC, Choi KE. Effect of quercetin on the pharmacokinetics of oral cyclosporine. Am J Health-Syst Pharm (2004) 61, 2406–9. Satyanarayana PSV, Singh D, Chopra K. Quercetin, a bioflavonoid, protects against oxidative stress-related renal dysfunction by cyclosporine in rats. Methods Find Exp Clin Pharmacol (2001) 23, 175–81. Hsiu S-L, Hou Y-C, Wang Y-H, Tsao C-W, Su S-F, Chao P-DL. Quercetin significantly decreased cyclosporin oral bioavailability in pigs and rats. Life Sci (2002) 72, 227–35. Yang CY, Chao PDL, Hou YC, Tsai SY, Wen KC, Hsiu SL. Marked decrease of cyclosporin bioavailability caused by coadministration of ginkgo and onion in rats. Food Chem Toxicol (2006) 44, 1572–8. Fang S-H, Hou Y-C, Chao P-DL. Pharmacokinetic and pharmacodynamic interactions of morin and cyclosporin. Toxicol Appl Pharmacol (2005) 205, 65–70. Lai M-Y, Hsiu S-L, Hou Y-C, Tsai S-Y, Chao P-DL. Significant decrease of cyclosporine bioavailability in rats caused by a decoction of the roots of Scutellaria baicalensis. Planta Med (2004) 70, 132–7. Tsai P-L, Tsai T-H. Pharmacokinetics of baicalin in rats and its interactions with cyclosporin A, quinidine and SKF-525A: a microdialysis study. Planta Med (2004) 70, 1069–74. Digoxin The interaction between flavonoids and digoxin is based on experimental evidence only. Wang Y-H, Chao P-DL, Hsiu S-L, Wen K-C, Hou Y-C. Lethal quercetin-digoxin interaction in pigs. Life Sci (2004) 74, 1191–7. Chung SY, Jang DS, Han A-R, Jang JO, Kwon Y, Seo E-K, Lee HJ. Modulation of Pglycoprotein-mediated resistance by kaempferol derivatives isolated from Zingiber zerumbet. Phytother Res (2007) 21, 565–9. USDA Database for the flavonoid content of selected foods, Release 2.1. http:// www.nal.usda.gov/fnic/foodcomp/Data/Flav/Flav02-1.pdf (accessed 20/11/2008). Kasper H, Zilly W, Fassl H, Fehle F. The effect of dietary fiber on postprandial serum digoxin concentration in man. Am J Clin Nutr (1979) 32, 2436–8. Enalapril The interaction between flavonoids and enalapril is based on experimental evidence only. Li P, Callery PS, Gan L-S, Balani SK. Esterase inhibition by grapefruit juice flavonoids leading to a new drug interaction. Drug Metab Dispos (2007) 35, 1203–8. Etoposide The interaction between flavonoids and etoposide is based on experimental evidence only Lo Y-L, Huang J-D. Comparison of effects of natural or artificial rodent diet on etoposide absorption in rats. In Vivo (1999) 13, 51–5. Li X, Yun J-K, Choi J-S. Effects of morin on the pharmacokinetics of etoposide in rats. Biopharm Drug Dispos (2007) 28, 151–6. Fexofenadine Naringin and hesperidin may slightly reduce fexofenadine bioavailibility. Bailey DG, Dresser GK, Leake BF, Kim RB. Naringin is a major and selective clinical inhibitor of organic anion-transporting polypeptide 1A2 (OATP1A2) in grapefruit juice. Clin Pharmacol Ther (2007) 81, 495–502. Food; Milk The addition of milk to tea did not alter the absorption of quercetin or kaempferol, or catechins, see Tea + Food, page 467. Herbal medicines No interactions found. Flavonoids are a very large family of polyphenolic compounds synthesised by plants that are common and widely distributed. Irinotecan or Topotecan Limited evidence suggests that high doses of chrysin are unlikely to cause an adverse interaction with irinotecan and possibly topotecan. Tobin PJ, Beale P, Noney L, Liddell S, Rivory LP, Clarke S. A pilot study on the safety of combining chrysin, a non-absorbable inducer of UGT1A1, and irinotecan (CPT-11) to treat metastatic colorectal cancer. Cancer Chemother Pharmacol (2006) 57, 309–16. Zhang S, Wang X, Sagawa K, Morris ME. Flavonoids chrysin and benzoflavone, potent breast cancer resistance protein inhibitors, have no significant effect on topotecan pharmacokinetics in rats or mdr1a/1b (-/-) mice. Drug Metab Dispos (2005) 33, 341–8. Paclitaxel The interaction between morin, naringin or quercetin and paclitaxel is based on experimental evidence only. Choi B-C, Choi J-S, Han H-K. Altered pharmacokinetics of paclitaxel by the concomitant use of morin in rats Int J Pharm (2006) 323, 81–5. Lim S-C, Choi J-S. Effects of naringin on the pharmacokinetics of intravenous paclitaxel in rats. Biopharm Drug Dispos (2006) 27, 443–7. Choi J-S, Shin S-C. Enhanced paclitaxel bioavailability after oral coadministration of paclitaxel prodrug with naringin to rats. Int J Pharm (2005) 292, 149–56. Choi J-S, Jo B-W, Kim Y-C. Enhanced paclitaxel bioavailability after oral administration of paclitaxel or prodrug to rats pretreated with quercetin. Eur J Pharm Biopharm (2004) 57, 313–18. Quinine or Quinidine The interaction between flavonoids and quinine or quinidine is based on experimental evidence only. Zhang H, Wong CW, Coville PF, Wanwimolruk S. Effect of the grapefruit flavonoid naringin on pharmacokinetics of quinine in rats. Drug Metabol Drug Interact (2000) 17, 351–63. Ho P-C, Saville DJ, Wanwimolruk S. Inhibition of human CYP3A4 activity by grapefruit flavonoids, furanocoumarins and related compounds. J Pharm Pharm Sci (2001) 4, 217–27. Ha HR, Chen J, Leuenberger PM, Freiburghaus AU, Follath F. In vitro inhibition of midazolam and quinidine metabolism by flavonoids. Eur J Clin Pharmacol (1995) 48, 367–71. Tsai P-L, Tsai T-H. Pharmacokinetics of baicalin in rats and its interactions with cyclosporin A, quinidine and SKF-525A: a microdialysis study. Planta Med (2004) 70, 1069–74. Rosiglitazone Quercetin does not appear to affect the pharmacokinetics of rosiglitazone. Kim K-A, Park P-W, Kim H-K, Ha J-M, Park J-Y. Effect of quercetin on the pharmacokinetics of rosiglitazone, a CYP2C8 substrate, in healthy subjects. J Clin Pharmacol (2005) 45, 941–6. Saquinavir Quercetin does not appear to affect the pharmacokinetics of saquinavir. DiCenzo R, Frerichs V, Larppanichpoonphol P, Predko L, Chen A, Reichman R, Morris M. Effect of quercetin on the plasma and intracellular concentrations of saquinavir in healthy adults. Pharmacotherapy (2006) 26, 1255–61. Statins The interaction between flavonoids and statins is based on experimental evidence only. Li P, Callery PS, Gan L-S, Balani SK. Esterase inhibition by grapefruit juice flavonoids leading to a new drug interaction. Drug Metab Dispos (2007) 35, 1203–8. Le Goff N, Koffel JC, Vandenschrieck S, Jung L, Ubeaud G. Comparison of in vitro hepatic models for the prediction of metabolic interaction between simvastatin and naringenin. Eur J Drug Metab Pharmacokinet (2002) 27, 233–41. Ubeaud G, Hagenbach J, Vandenschrieck S, Jung L, Koffel JC. In vitro inhibition of simvastatin metabolism in rat and human liver by naringenin. Life Sci (1999) 65, 1403– 12. Tamoxifen The interaction between flavonoids and tamoxifen is based on experimental evidence only. Rosengren RJ. Catechins and the treatment of breast cancer: possible utility and mechanistic targets. IDrugs (2003) 6, 1073–8. Bracke ME, Depypere HT, Boterberg T, Van Marck VL, Vennekens KM, Vanluchene E, Nuytinck M, Serreyn R, Mareel MM. Influence of tangeretin on tamoxifen’s therapeutic benefit in mammary cancer. J Natl Cancer Inst (1999) 91, 354–9. Shin S-C, Choi J-S, Li X. Enhanced bioavailability of tamoxifen after oral administration of tamoxifen with quercetin in rats. Int J Pharm (2006) 313, 144–9.\n"
     ]
    }
   ],
   "source": [
    "pretty_print_docs(unique_docs)"
   ]
  },
  {
   "cell_type": "code",
   "execution_count": null,
   "id": "dce7c3f4-256b-417d-9960-5ad039b80cf7",
   "metadata": {},
   "outputs": [],
   "source": [
    "from langchain_community.document_transformers import EmbeddingsRedundantFilter\n",
    "from langchain.retrievers import ContextualCompressionRetriever\n",
    "from langchain.retrievers.document_compressors import FlashrankRerank\n",
    "from langchain.retrievers.document_compressors import LLMChainExtractor\n",
    "from langchain.retrievers.document_compressors import DocumentCompressorPipeline\n",
    "\n",
    "# from langchain_text_splitters import CharacterTextSplitter"
   ]
  },
  {
   "cell_type": "code",
   "execution_count": null,
   "id": "6b059dd3-c666-42a7-ad11-48295478c35f",
   "metadata": {},
   "outputs": [],
   "source": [
    "from langchain_openai import OpenAI"
   ]
  },
  {
   "cell_type": "code",
   "execution_count": null,
   "id": "9954efef-55f7-42c2-b6c8-ef8f4107d116",
   "metadata": {},
   "outputs": [],
   "source": [
    "splitter = CharacterTextSplitter(chunk_size=300, chunk_overlap=0, separator=\". \")\n",
    "redundant_filter = EmbeddingsRedundantFilter(embeddings=embeddings)\n",
    "relevant_filter = EmbeddingsFilter(embeddings=embeddings, similarity_threshold=0.76)\n",
    "pipeline_compressor = DocumentCompressorPipeline(\n",
    "    transformers=[splitter, redundant_filter, relevant_filter]\n",
    ")"
   ]
  },
  {
   "cell_type": "code",
   "execution_count": 312,
   "id": "6648476c-3234-4935-a80d-c3ed5a9b35d9",
   "metadata": {},
   "outputs": [],
   "source": [
    "compressor = LLMChainExtractor.from_llm(llm)"
   ]
  },
  {
   "cell_type": "code",
   "execution_count": 313,
   "id": "4bad3f35-1dc6-4628-808b-aae287f0517a",
   "metadata": {},
   "outputs": [],
   "source": [
    "compression_retriever = ContextualCompressionRetriever(\n",
    "    base_compressor=compressor, base_retriever=retriever_from_llm\n",
    ")"
   ]
  },
  {
   "cell_type": "code",
   "execution_count": 314,
   "id": "746d362e-e1e4-460f-b8d9-afa31c7217ee",
   "metadata": {},
   "outputs": [],
   "source": [
    "compressed_docs = compression_retriever.invoke(queries[0])"
   ]
  },
  {
   "cell_type": "code",
   "execution_count": 306,
   "id": "027ed281-17d5-4396-8710-48906ab64670",
   "metadata": {},
   "outputs": [
    {
     "name": "stdout",
     "output_type": "stream",
     "text": [
      "Document 1:\n",
      "\n",
      "Warfarin and related drugs A number of case reports suggest that cranberry juice can increase the INR of patients taking warfarin, and one patient has died as a result of this interaction. Other patients have developed unstable INRs or, in one isolated case, a reduced INR. However, in four controlled studies, cranberry juice did not alter the anticoagulant effect of warfarin, or had only very minor effects on the INR. Neither cranberry juice nor the extract altered warfarin pharmacokinetics. Committee on Safety of Medicines/Medicines and Healthcare products Regulatory Agency Possible interaction between warfarin and cranberry juice. Current Problems (2003) 29, 8. Committee on Safety of Medicines/Medicines and Healthcare products Regulatory Agency Interaction between warfarin and cranberry juice: new advice. Current Problems (2004) 30, 10. Suvarna R, Pirmohamed M, Henderson L. Possible interaction between warfarin and cranberry juice. BMJ (2003) 327, 1454. Grant P. Warfarin and cranberry juice: an interaction? J Heart Valve Dis (2004) 13, 25– 6. Walsh KM. Getting to yes. J Am Geriatr Soc (2005) 53, 1072. Rindone JP, Murphy TW. Warfarin-cranberry juice interaction resulting in profound hypoprothrombinemia and bleeding. Am J Ther (2006) 13, 283–4. Paeng CH, Sprague M, Jackevicius CA. Interaction between warfarin and cranberry juice. Clin Ther (2007) 29, 1730–5. Li Z, Seeram NP, Carpenter CL, Thames G, Minutti C, Bowerman S. Cranberry does not affect prothrombin time in male subjects on warfarin. J Am Diet Assoc (2006) 106, 2057–61. Ansell J, McDonough M, Jarmatz JS, Greenblatt DJ. A randomized, double-blind trial of the interaction between cranberry juice and warfarin. J Thromb Thrombolysis (2008) 25, 112.\n",
      "----------------------------------------------------------------------------------------------------\n",
      "Document 2:\n",
      "\n",
      "Anticoagulants The INR of one patient taking warfarin modestly increased after he took Curbicin (saw palmetto, cucurbita and vitamin E). This product has also been associated with an increased INR in a patient not taking anticoagulants. Excessive bleeding during surgery has been reported in another patient who had been taking saw palmetto. Yue Q-Y, Jansson K. Herbal drug Curbicin and anticoagulant effect with and without warfarin: possibly related to the vitamin E component. J Am Geriatr Soc (2001) 49, 838. Cheema P, El-Mefty O, Jazieh AR. Intraoperative haemorrhage associated with the use of extract of Saw Palmetto herb: a case report and review of literature. J Intern Med (2001) 250, 167–9.\n"
     ]
    }
   ],
   "source": [
    "pretty_print_docs(compressed_docs)"
   ]
  },
  {
   "cell_type": "markdown",
   "id": "e3e46fb9-69df-4db5-93ca-284c06815a64",
   "metadata": {},
   "source": [
    "-------------"
   ]
  },
  {
   "cell_type": "markdown",
   "id": "9c95147e-8c93-4573-b42e-6f44b3212fda",
   "metadata": {},
   "source": [
    "# Reckoning knowledge folding"
   ]
  },
  {
   "cell_type": "markdown",
   "id": "4a3183f6-63d6-4062-b8d6-fbd17bb8d0a1",
   "metadata": {},
   "source": [
    "---------------"
   ]
  },
  {
   "cell_type": "code",
   "execution_count": null,
   "id": "51913a6e-c62b-4406-ad27-7f80f0fa8290",
   "metadata": {},
   "outputs": [],
   "source": [
    "file_path2 = (\n",
    "    \"./cranberry.csv\"\n",
    ")"
   ]
  },
  {
   "cell_type": "code",
   "execution_count": null,
   "id": "c2d3acaa-0e64-4307-8ea5-9e4674bbac2a",
   "metadata": {},
   "outputs": [],
   "source": [
    "loader2 = CSVLoader(file_path=file_path2,source_column=\"English common name of herbal substance\")\n",
    "data2 = loader2.load()"
   ]
  },
  {
   "cell_type": "code",
   "execution_count": null,
   "id": "4e0c67a4-c0d9-4f45-a902-8d8a891fdc63",
   "metadata": {},
   "outputs": [],
   "source": [
    "data2"
   ]
  },
  {
   "cell_type": "markdown",
   "id": "e724ef53-8116-496c-afd3-5138b33595b3",
   "metadata": {},
   "source": [
    "------------"
   ]
  },
  {
   "cell_type": "markdown",
   "id": "3f9af023-4032-412e-91f2-31a1f96af30e",
   "metadata": {},
   "source": [
    "# Results collections"
   ]
  },
  {
   "cell_type": "code",
   "execution_count": null,
   "id": "116dccda-5572-43bf-843a-61eadf8eb610",
   "metadata": {},
   "outputs": [],
   "source": [
    "results_dir = './KF-Results/'"
   ]
  },
  {
   "cell_type": "markdown",
   "id": "c753e20d-691e-4391-b64c-2081933c4949",
   "metadata": {},
   "source": [
    "--------------"
   ]
  },
  {
   "cell_type": "markdown",
   "id": "c4d5f4a2-0b6f-4fb7-9dc9-e0019a4d656d",
   "metadata": {},
   "source": [
    "# Baseline LLAMA 3.1 LLM Generation"
   ]
  },
  {
   "cell_type": "code",
   "execution_count": 11,
   "id": "55e3de5e-d52e-476c-bee5-a1f562bda301",
   "metadata": {},
   "outputs": [],
   "source": [
    "model_id = \"meta-llama/Meta-Llama-3.1-8B-Instruct\"\n",
    "dtype = torch.bfloat16"
   ]
  },
  {
   "cell_type": "code",
   "execution_count": 12,
   "id": "f9e38d35-286d-4f3e-b820-bf9b1c2f727a",
   "metadata": {},
   "outputs": [
    {
     "data": {
      "application/vnd.jupyter.widget-view+json": {
       "model_id": "1885391f1c164657b944ee1b522340fa",
       "version_major": 2,
       "version_minor": 0
      },
      "text/plain": [
       "Loading checkpoint shards:   0%|          | 0/4 [00:00<?, ?it/s]"
      ]
     },
     "metadata": {},
     "output_type": "display_data"
    }
   ],
   "source": [
    "pipeline = transformers.pipeline(\n",
    "    \"text-generation\", \n",
    "    model=model_id,\n",
    "    torch_dtype =dtype,\n",
    "    device_map=\"auto\"\n",
    ")"
   ]
  },
  {
   "cell_type": "code",
   "execution_count": 13,
   "id": "c2a3bef9-90ff-4ce4-9d8a-255994ecb6c9",
   "metadata": {},
   "outputs": [
    {
     "name": "stderr",
     "output_type": "stream",
     "text": [
      "Setting `pad_token_id` to `eos_token_id`:128001 for open-end generation.\n",
      "Setting `pad_token_id` to `eos_token_id`:128001 for open-end generation.\n",
      "Setting `pad_token_id` to `eos_token_id`:128001 for open-end generation.\n",
      "Setting `pad_token_id` to `eos_token_id`:128001 for open-end generation.\n",
      "Setting `pad_token_id` to `eos_token_id`:128001 for open-end generation.\n",
      "Setting `pad_token_id` to `eos_token_id`:128001 for open-end generation.\n",
      "Setting `pad_token_id` to `eos_token_id`:128001 for open-end generation.\n",
      "Setting `pad_token_id` to `eos_token_id`:128001 for open-end generation.\n"
     ]
    }
   ],
   "source": [
    "for i in range(len(queries)):\n",
    "    messages = [\n",
    "        {\n",
    "            \"role\": \"system\", \n",
    "            \"content\": prompt\n",
    "        },\n",
    "        {\n",
    "            \"role\": \"user\", \n",
    "            \"content\": queries[i].text\n",
    "        },\n",
    "    ]\n",
    "    outputs = pipeline(\n",
    "        messages,\n",
    "        max_new_tokens=3500,\n",
    "        temperature=1.0\n",
    "    )\n",
    "    with open(f'{results}llama/llama_3.1_baseline_({mappings.loc[i].NP},{mappings.loc[i].Drug},{mappings.loc[i].AE}).md', 'w') as f:\n",
    "        f.write('# Prompts to LLM:\\n\\n')\n",
    "        f.write(messages[0]['content'])\n",
    "        f.write(\"\\n\")\n",
    "        f.write(messages[1]['content'])\n",
    "        f.write('\\n\\n-------\\n\\n')\n",
    "        f.write('# Response from LLM:\\n\\n')\n",
    "        f.write(str(outputs[0][\"generated_text\"][-1][\"content\"]))"
   ]
  },
  {
   "cell_type": "code",
   "execution_count": 14,
   "id": "3b506640-c12d-4c1e-8e18-3f1ef9834157",
   "metadata": {},
   "outputs": [],
   "source": [
    "# print(outputs[0][\"generated_text\"][-1][\"content\"])"
   ]
  },
  {
   "cell_type": "markdown",
   "id": "76d43144-1ecf-4fac-8bfb-17c9e45f5e22",
   "metadata": {},
   "source": [
    "------------------------"
   ]
  },
  {
   "cell_type": "markdown",
   "id": "7d0080b7-0f2c-43c2-b473-5cb2268a943a",
   "metadata": {},
   "source": [
    "# Baseline GEMMA 2 LLM Generation"
   ]
  },
  {
   "cell_type": "code",
   "execution_count": 15,
   "id": "7feb3727-d240-4db8-8949-df49b3671cc0",
   "metadata": {},
   "outputs": [],
   "source": [
    "model_id = \"google/gemma-2-9b-it\"\n",
    "dtype = torch.bfloat16"
   ]
  },
  {
   "cell_type": "code",
   "execution_count": 16,
   "id": "7109d867-098b-4997-8391-2acc200107c6",
   "metadata": {},
   "outputs": [
    {
     "data": {
      "application/vnd.jupyter.widget-view+json": {
       "model_id": "c50384800094457396813fc009257cf6",
       "version_major": 2,
       "version_minor": 0
      },
      "text/plain": [
       "Loading checkpoint shards:   0%|          | 0/4 [00:00<?, ?it/s]"
      ]
     },
     "metadata": {},
     "output_type": "display_data"
    }
   ],
   "source": [
    "pipeline = transformers.pipeline(\n",
    "    \"text-generation\", \n",
    "    model=model_id,\n",
    "    torch_dtype =dtype,\n",
    "    device_map=\"auto\"\n",
    ")"
   ]
  },
  {
   "cell_type": "code",
   "execution_count": 17,
   "id": "a4c9e071-0e4c-40de-9d70-b473dce6c88f",
   "metadata": {},
   "outputs": [],
   "source": [
    "instruction_header = \"### Instructions ###\\n\\n\"\n",
    "query_header = \"### Query ###\\n\\n\""
   ]
  },
  {
   "cell_type": "code",
   "execution_count": 18,
   "id": "3a0308a9-f2e8-4014-a763-e4c336ff7e7f",
   "metadata": {},
   "outputs": [],
   "source": [
    "# instruction_header + prompt + query_header + queries[0].to_string()"
   ]
  },
  {
   "cell_type": "code",
   "execution_count": 19,
   "id": "a3b73b4b-b25e-4d9c-a63d-e7852462a048",
   "metadata": {},
   "outputs": [],
   "source": [
    "for i in range(len(queries)):\n",
    "    messages = [{\n",
    "        \"role\": \"user\",\n",
    "        \"content\": instruction_header + prompt + query_header + queries[i].to_string()\n",
    "    }]\n",
    "    outputs = pipeline(\n",
    "        messages,\n",
    "        max_new_tokens=3500,\n",
    "        temperature=1.0\n",
    "    )\n",
    "    with open(f'./Results/gemma/gemma_2_baseline_({mappings.loc[i].NP},{mappings.loc[i].Drug},{mappings.loc[i].AE}).md', 'w') as f:\n",
    "        f.write('# Prompts to LLM:\\n\\n')\n",
    "        f.write(messages[0]['content'])\n",
    "        f.write('\\n\\n-------\\n\\n')\n",
    "        f.write('# Response from LLM:\\n\\n')\n",
    "        f.write(str(outputs[0][\"generated_text\"][-1][\"content\"]))"
   ]
  },
  {
   "cell_type": "code",
   "execution_count": 20,
   "id": "fee44f42-5ef4-48fc-8464-92fa3767727f",
   "metadata": {},
   "outputs": [],
   "source": [
    "# print(outputs[0][\"generated_text\"][-1][\"content\"])"
   ]
  },
  {
   "cell_type": "markdown",
   "id": "f9f25b1c-1734-46bb-b586-905a1fef1824",
   "metadata": {},
   "source": [
    "------------------------"
   ]
  },
  {
   "cell_type": "markdown",
   "id": "15dfe9bd-1d81-4551-9567-0be61b3851ab",
   "metadata": {},
   "source": [
    "# Baseline GPT4o-mini LLM Generation"
   ]
  },
  {
   "cell_type": "code",
   "execution_count": 194,
   "id": "77ee5c3f-247c-42ef-807c-a7b585027551",
   "metadata": {},
   "outputs": [],
   "source": [
    "# import getpass\n",
    "import os"
   ]
  },
  {
   "cell_type": "code",
   "execution_count": 195,
   "id": "5c4075b5-bcda-49da-8348-f16d77b1c114",
   "metadata": {},
   "outputs": [],
   "source": [
    "# if not os.environ.get(\"OPENAI_API_KEY\"):\n",
    "#     os.environ[\"OPENAI_API_KEY\"] = getpass.getpass(\"Enter your OpenAI API key: \")"
   ]
  },
  {
   "cell_type": "code",
   "execution_count": 196,
   "id": "0a897e81-cbb1-4f63-85e8-70692b20650d",
   "metadata": {},
   "outputs": [],
   "source": [
    "os.environ[\"OPENAI_API_KEY\"] = os.environ.get(\"OPENAI_PERSONAL_API_KEY\", default=False)"
   ]
  },
  {
   "cell_type": "code",
   "execution_count": 24,
   "id": "c5203c1a-7914-4644-ac3c-07218a1d6815",
   "metadata": {},
   "outputs": [],
   "source": [
    "from langchain_openai import ChatOpenAI"
   ]
  },
  {
   "cell_type": "code",
   "execution_count": 25,
   "id": "8307f281-7483-40b0-b779-2447935fed30",
   "metadata": {},
   "outputs": [],
   "source": [
    "llm = ChatOpenAI(\n",
    "    model=\"gpt-4o-mini\",\n",
    "    temperature=1.0,\n",
    "    max_tokens=3500,\n",
    ")"
   ]
  },
  {
   "cell_type": "code",
   "execution_count": 26,
   "id": "5638e273-7288-4623-9874-2a252dfba768",
   "metadata": {},
   "outputs": [],
   "source": [
    "for i in range(len(queries)):\n",
    "    messages = [\n",
    "        {\n",
    "            \"role\": \"system\", \n",
    "            \"content\": prompt\n",
    "        },\n",
    "        {\n",
    "            \"role\": \"user\", \n",
    "            \"content\": queries[i].text\n",
    "        },\n",
    "    ]\n",
    "    outputs = llm.invoke(messages)\n",
    "    with open(f'./Results/gpt/gpt4o-mini_baseline_({mappings.loc[i].NP},{mappings.loc[i].Drug},{mappings.loc[i].AE}).md', 'w') as f:\n",
    "        f.write('# Prompts to LLM:\\n\\n')\n",
    "        f.write(messages[0]['content'])\n",
    "        f.write(\"\\n\")\n",
    "        f.write(messages[1]['content'])\n",
    "        f.write('\\n\\n-------\\n\\n')\n",
    "        f.write('# Response from LLM:\\n\\n')\n",
    "        f.write(str(outputs.content))"
   ]
  },
  {
   "cell_type": "markdown",
   "id": "d7c14a2a-8cfb-4761-a1bf-531c3843ec6f",
   "metadata": {},
   "source": [
    "-------------------"
   ]
  }
 ],
 "metadata": {
  "kernelspec": {
   "display_name": "Python 3 (ipykernel)",
   "language": "python",
   "name": "python3"
  },
  "language_info": {
   "codemirror_mode": {
    "name": "ipython",
    "version": 3
   },
   "file_extension": ".py",
   "mimetype": "text/x-python",
   "name": "python",
   "nbconvert_exporter": "python",
   "pygments_lexer": "ipython3",
   "version": "3.11.5"
  },
  "widgets": {
   "application/vnd.jupyter.widget-state+json": {
    "state": {},
    "version_major": 2,
    "version_minor": 0
   }
  }
 },
 "nbformat": 4,
 "nbformat_minor": 5
}
