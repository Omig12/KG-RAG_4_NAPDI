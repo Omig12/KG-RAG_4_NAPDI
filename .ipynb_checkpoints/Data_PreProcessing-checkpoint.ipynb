{
 "cells": [
  {
   "cell_type": "code",
   "execution_count": 1,
   "id": "23c78dd9-fad6-47e0-bf0d-feba86918f47",
   "metadata": {},
   "outputs": [],
   "source": [
    "!source activate /ix/rboyce/iod4/envs/FM\n",
    "!export HF_HOME=\"/ix/rboyce/iod4/.cache/huggingface/\""
   ]
  },
  {
   "cell_type": "code",
   "execution_count": 2,
   "id": "4807bd94-4f7c-48fb-8541-538617e6dca8",
   "metadata": {},
   "outputs": [],
   "source": [
    "import pandas as pd"
   ]
  },
  {
   "cell_type": "markdown",
   "id": "417ee393-3fd2-404c-beb3-58991660e453",
   "metadata": {},
   "source": [
    "# EMA"
   ]
  },
  {
   "cell_type": "code",
   "execution_count": 3,
   "id": "bd10880b-e4b5-4558-859c-a014b4726723",
   "metadata": {},
   "outputs": [],
   "source": [
    "EMA_path = \"./Data/NPDIs and AEs.xlsx\""
   ]
  },
  {
   "cell_type": "code",
   "execution_count": 4,
   "id": "a44516b9-9939-45c5-bc28-7734adb7dba8",
   "metadata": {},
   "outputs": [],
   "source": [
    "EMA = pd.ExcelFile(EMA_path)"
   ]
  },
  {
   "cell_type": "code",
   "execution_count": 5,
   "id": "e287253e-e3d6-4de6-bc35-f3044a6f2c90",
   "metadata": {},
   "outputs": [],
   "source": [
    "df_dict = {s: pd.read_excel(EMA_path, sheet_name= s) for s in EMA.sheet_names}"
   ]
  },
  {
   "cell_type": "code",
   "execution_count": 6,
   "id": "a93b603c-27e4-4cfb-b379-c61c5c5b3fa6",
   "metadata": {},
   "outputs": [
    {
     "data": {
      "text/plain": [
       "'English common name of herbal substance'"
      ]
     },
     "execution_count": 6,
     "metadata": {},
     "output_type": "execute_result"
    }
   ],
   "source": [
    "key = df_dict[EMA.sheet_names[0]].columns[1]\n",
    "key"
   ]
  },
  {
   "cell_type": "code",
   "execution_count": 7,
   "id": "d39672bc-37df-4070-b203-4c209ab22ded",
   "metadata": {},
   "outputs": [],
   "source": [
    "for sheet in EMA.sheet_names:\n",
    "    df_dict[sheet] = df_dict[sheet].set_index(key)"
   ]
  },
  {
   "cell_type": "code",
   "execution_count": 8,
   "id": "4c6f3deb-80a1-47d7-958f-5e48bdef489f",
   "metadata": {},
   "outputs": [],
   "source": [
    "EMA_df = df_dict[EMA.sheet_names[0]].join([df_dict[v] for v in EMA.sheet_names[1:]], how='left')"
   ]
  },
  {
   "cell_type": "code",
   "execution_count": 9,
   "id": "f1250b4b-064a-493e-b5b1-9265526aaf07",
   "metadata": {},
   "outputs": [],
   "source": [
    "EMA_df.reset_index().to_csv(\"./Clean_data/ema.csv\", index= False, encoding='utf-8')"
   ]
  },
  {
   "cell_type": "markdown",
   "id": "00b9aa13-7819-4c0e-acb9-0f146d00e95d",
   "metadata": {},
   "source": [
    "-----------"
   ]
  },
  {
   "cell_type": "markdown",
   "id": "a1703737-4237-463f-aecf-439c203db633",
   "metadata": {},
   "source": [
    "# Stockley's"
   ]
  },
  {
   "cell_type": "code",
   "execution_count": 10,
   "id": "394574cc-a11e-4cc0-af1f-3b932abcff05",
   "metadata": {},
   "outputs": [],
   "source": [
    "Stockleys_path = \"./Data/NP_Stockleys_data (1).xlsx\""
   ]
  },
  {
   "cell_type": "code",
   "execution_count": 11,
   "id": "c3faebf2-230f-4a98-a24a-c7586aff4d77",
   "metadata": {},
   "outputs": [],
   "source": [
    "Stockleys = pd.ExcelFile(Stockleys_path)"
   ]
  },
  {
   "cell_type": "code",
   "execution_count": 12,
   "id": "9a4e93c9-7745-492d-8455-94ac733b4bb1",
   "metadata": {},
   "outputs": [],
   "source": [
    "# Stockleys.sheet_names"
   ]
  },
  {
   "cell_type": "code",
   "execution_count": 13,
   "id": "f60ef833-8805-4596-8b54-d8b79ae1927d",
   "metadata": {},
   "outputs": [],
   "source": [
    "df_dict = {s: pd.read_excel(Stockleys_path, sheet_name= s, na_values='nan') for s in Stockleys.sheet_names}"
   ]
  },
  {
   "cell_type": "code",
   "execution_count": 14,
   "id": "70cfa93d-c708-4901-a741-6a0b78e4a054",
   "metadata": {},
   "outputs": [],
   "source": [
    "import csv"
   ]
  },
  {
   "cell_type": "code",
   "execution_count": 15,
   "id": "8709a845-4635-4ca4-8dc2-c11e1ac9d084",
   "metadata": {},
   "outputs": [],
   "source": [
    "# s = 'Ashwagandha'"
   ]
  },
  {
   "cell_type": "code",
   "execution_count": 16,
   "id": "9aaa3e69-09d2-4341-9e35-ff76643b87de",
   "metadata": {},
   "outputs": [],
   "source": [
    "for s in Stockleys.sheet_names:\n",
    "     # print(s)\n",
    "     df_dict[s].fillna('').to_csv('./Clean_data/'+s+'.txt', sep=\"\\n\", doublequote=False, escapechar='\"', quoting=csv.QUOTE_NONE, encoding='utf-8', index= False)"
   ]
  },
  {
   "cell_type": "markdown",
   "id": "af029ec8-2f2e-40b9-bcc0-fbe7a25209b5",
   "metadata": {},
   "source": [
    "-------------------"
   ]
  },
  {
   "cell_type": "markdown",
   "id": "34e46976-15b5-4d2d-8743-0c5fc28200c9",
   "metadata": {},
   "source": [
    "# NPKG"
   ]
  },
  {
   "cell_type": "code",
   "execution_count": 75,
   "id": "3f5453eb-e7ec-4cc2-a569-04fe7616204f",
   "metadata": {},
   "outputs": [],
   "source": [
    "npkg_path = \"./Data/Processed_pattern1_20240812-115439.csv\""
   ]
  },
  {
   "cell_type": "code",
   "execution_count": 76,
   "id": "0d77eab9-77a2-4ae5-a0f0-b00861a7eaf7",
   "metadata": {},
   "outputs": [],
   "source": [
    "npkg = pd.read_csv(npkg_path, sep='\\t')"
   ]
  },
  {
   "cell_type": "code",
   "execution_count": 77,
   "id": "f6e7c869-55b3-4fdd-96d2-2626d170f4a7",
   "metadata": {},
   "outputs": [],
   "source": [
    "for i, row in npkg.iterrows():\n",
    "    narrative = f'The {row.index[0]} {row.iloc[0]} {row.iloc[1]} the {row.index[2]} {row.iloc[2]}. \\\n",
    "    The {row.index[4]} {row.iloc[4]} {row.iloc[3]} the {row.index[2]} {row.iloc[2]}. \\\n",
    "    And the {row.index[4]} {row.iloc[4]} is causally {row.iloc[5]} the {row.index[6]} {row.iloc[6]}.'.replace('_',' ')\n",
    "    \n",
    "    ontology = [''.join([row.index[i], ': ', row.iloc[i], '\\n']) for i in range(7,15)]\n",
    "    narrative = ''.join([narrative, '\\n\\n', ''.join(ontology)])\n",
    "\n",
    "    with open(f'./Clean_data/npkg-narrative-{i}({row.iloc[0]},{row.iloc[4]},{row.iloc[6]}).txt', 'w') as f:\n",
    "        f.write(narrative)"
   ]
  }
 ],
 "metadata": {
  "kernelspec": {
   "display_name": "Python 3 (ipykernel)",
   "language": "python",
   "name": "python3"
  },
  "language_info": {
   "codemirror_mode": {
    "name": "ipython",
    "version": 3
   },
   "file_extension": ".py",
   "mimetype": "text/x-python",
   "name": "python",
   "nbconvert_exporter": "python",
   "pygments_lexer": "ipython3",
   "version": "3.11.5"
  },
  "widgets": {
   "application/vnd.jupyter.widget-state+json": {
    "state": {},
    "version_major": 2,
    "version_minor": 0
   }
  }
 },
 "nbformat": 4,
 "nbformat_minor": 5
}
